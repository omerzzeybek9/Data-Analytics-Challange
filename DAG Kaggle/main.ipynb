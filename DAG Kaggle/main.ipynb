{
 "cells": [
  {
   "cell_type": "code",
   "execution_count": 1,
   "metadata": {},
   "outputs": [],
   "source": [
    "import pandas as pd\n",
    "import numpy as np"
   ]
  },
  {
   "cell_type": "code",
   "execution_count": 2,
   "metadata": {},
   "outputs": [],
   "source": [
    "#User features \n",
    "user_features = pd.read_csv(\"csvfiles/user_features_train.csv\")\n",
    "user_features_test = pd.read_csv(\"csvfiles/user_features_test.csv\")\n"
   ]
  },
  {
   "cell_type": "code",
   "execution_count": 3,
   "metadata": {},
   "outputs": [],
   "source": [
    "#Users meta data \n",
    "users = pd.read_csv(\"csvfiles/users_train.csv\")\n",
    "users_test = pd.read_csv(\"csvfiles/users_test.csv\")"
   ]
  },
  {
   "cell_type": "code",
   "execution_count": 4,
   "metadata": {},
   "outputs": [],
   "source": [
    "#Target_Train \n",
    "target = pd.read_csv(\"csvfiles/targets_train.csv\")"
   ]
  },
  {
   "cell_type": "code",
   "execution_count": 5,
   "metadata": {},
   "outputs": [
    {
     "data": {
      "text/html": [
       "<div>\n",
       "<style scoped>\n",
       "    .dataframe tbody tr th:only-of-type {\n",
       "        vertical-align: middle;\n",
       "    }\n",
       "\n",
       "    .dataframe tbody tr th {\n",
       "        vertical-align: top;\n",
       "    }\n",
       "\n",
       "    .dataframe thead th {\n",
       "        text-align: right;\n",
       "    }\n",
       "</style>\n",
       "<table border=\"1\" class=\"dataframe\">\n",
       "  <thead>\n",
       "    <tr style=\"text-align: right;\">\n",
       "      <th></th>\n",
       "      <th>ID</th>\n",
       "      <th>first_prediction</th>\n",
       "      <th>RetentionD0</th>\n",
       "      <th>RetentionD1</th>\n",
       "      <th>RetentionD2</th>\n",
       "      <th>RetentionD3</th>\n",
       "      <th>RetentionD4</th>\n",
       "      <th>RetentionD5</th>\n",
       "      <th>RetentionD6</th>\n",
       "      <th>RetentionD7</th>\n",
       "      <th>...</th>\n",
       "      <th>IAPRevenueD6</th>\n",
       "      <th>IAPRevenueD7</th>\n",
       "      <th>IAPRevenueD8</th>\n",
       "      <th>IAPRevenueD9</th>\n",
       "      <th>IAPRevenueD10</th>\n",
       "      <th>IAPRevenueD11</th>\n",
       "      <th>IAPRevenueD12</th>\n",
       "      <th>IAPRevenueD13</th>\n",
       "      <th>IAPRevenueD14</th>\n",
       "      <th>IAPRevenueD15</th>\n",
       "    </tr>\n",
       "  </thead>\n",
       "  <tbody>\n",
       "    <tr>\n",
       "      <th>0</th>\n",
       "      <td>0</td>\n",
       "      <td>3.314099</td>\n",
       "      <td>True</td>\n",
       "      <td>False</td>\n",
       "      <td>False</td>\n",
       "      <td>False</td>\n",
       "      <td>False</td>\n",
       "      <td>False</td>\n",
       "      <td>False</td>\n",
       "      <td>False</td>\n",
       "      <td>...</td>\n",
       "      <td>0.0</td>\n",
       "      <td>0.0</td>\n",
       "      <td>0.0</td>\n",
       "      <td>0.0</td>\n",
       "      <td>0.0</td>\n",
       "      <td>0.0</td>\n",
       "      <td>0.0</td>\n",
       "      <td>0.0</td>\n",
       "      <td>0.0</td>\n",
       "      <td>0.0</td>\n",
       "    </tr>\n",
       "    <tr>\n",
       "      <th>1</th>\n",
       "      <td>1</td>\n",
       "      <td>1.681524</td>\n",
       "      <td>True</td>\n",
       "      <td>False</td>\n",
       "      <td>False</td>\n",
       "      <td>False</td>\n",
       "      <td>False</td>\n",
       "      <td>False</td>\n",
       "      <td>True</td>\n",
       "      <td>True</td>\n",
       "      <td>...</td>\n",
       "      <td>0.0</td>\n",
       "      <td>0.0</td>\n",
       "      <td>0.0</td>\n",
       "      <td>0.0</td>\n",
       "      <td>0.0</td>\n",
       "      <td>0.0</td>\n",
       "      <td>0.0</td>\n",
       "      <td>0.0</td>\n",
       "      <td>0.0</td>\n",
       "      <td>0.0</td>\n",
       "    </tr>\n",
       "    <tr>\n",
       "      <th>2</th>\n",
       "      <td>2</td>\n",
       "      <td>10.718750</td>\n",
       "      <td>True</td>\n",
       "      <td>False</td>\n",
       "      <td>False</td>\n",
       "      <td>False</td>\n",
       "      <td>False</td>\n",
       "      <td>False</td>\n",
       "      <td>False</td>\n",
       "      <td>False</td>\n",
       "      <td>...</td>\n",
       "      <td>0.0</td>\n",
       "      <td>0.0</td>\n",
       "      <td>0.0</td>\n",
       "      <td>0.0</td>\n",
       "      <td>0.0</td>\n",
       "      <td>0.0</td>\n",
       "      <td>0.0</td>\n",
       "      <td>0.0</td>\n",
       "      <td>0.0</td>\n",
       "      <td>0.0</td>\n",
       "    </tr>\n",
       "    <tr>\n",
       "      <th>3</th>\n",
       "      <td>3</td>\n",
       "      <td>5.100000</td>\n",
       "      <td>True</td>\n",
       "      <td>True</td>\n",
       "      <td>True</td>\n",
       "      <td>False</td>\n",
       "      <td>False</td>\n",
       "      <td>False</td>\n",
       "      <td>False</td>\n",
       "      <td>False</td>\n",
       "      <td>...</td>\n",
       "      <td>0.0</td>\n",
       "      <td>0.0</td>\n",
       "      <td>0.0</td>\n",
       "      <td>0.0</td>\n",
       "      <td>0.0</td>\n",
       "      <td>0.0</td>\n",
       "      <td>0.0</td>\n",
       "      <td>0.0</td>\n",
       "      <td>0.0</td>\n",
       "      <td>0.0</td>\n",
       "    </tr>\n",
       "    <tr>\n",
       "      <th>4</th>\n",
       "      <td>4</td>\n",
       "      <td>2.091409</td>\n",
       "      <td>True</td>\n",
       "      <td>False</td>\n",
       "      <td>False</td>\n",
       "      <td>False</td>\n",
       "      <td>False</td>\n",
       "      <td>False</td>\n",
       "      <td>False</td>\n",
       "      <td>False</td>\n",
       "      <td>...</td>\n",
       "      <td>0.0</td>\n",
       "      <td>0.0</td>\n",
       "      <td>0.0</td>\n",
       "      <td>0.0</td>\n",
       "      <td>0.0</td>\n",
       "      <td>0.0</td>\n",
       "      <td>0.0</td>\n",
       "      <td>0.0</td>\n",
       "      <td>0.0</td>\n",
       "      <td>0.0</td>\n",
       "    </tr>\n",
       "  </tbody>\n",
       "</table>\n",
       "<p>5 rows × 76 columns</p>\n",
       "</div>"
      ],
      "text/plain": [
       "   ID  first_prediction  RetentionD0  RetentionD1  RetentionD2  RetentionD3  \\\n",
       "0   0          3.314099         True        False        False        False   \n",
       "1   1          1.681524         True        False        False        False   \n",
       "2   2         10.718750         True        False        False        False   \n",
       "3   3          5.100000         True         True         True        False   \n",
       "4   4          2.091409         True        False        False        False   \n",
       "\n",
       "   RetentionD4  RetentionD5  RetentionD6  RetentionD7  ...  IAPRevenueD6  \\\n",
       "0        False        False        False        False  ...           0.0   \n",
       "1        False        False         True         True  ...           0.0   \n",
       "2        False        False        False        False  ...           0.0   \n",
       "3        False        False        False        False  ...           0.0   \n",
       "4        False        False        False        False  ...           0.0   \n",
       "\n",
       "   IAPRevenueD7  IAPRevenueD8  IAPRevenueD9  IAPRevenueD10  IAPRevenueD11  \\\n",
       "0           0.0           0.0           0.0            0.0            0.0   \n",
       "1           0.0           0.0           0.0            0.0            0.0   \n",
       "2           0.0           0.0           0.0            0.0            0.0   \n",
       "3           0.0           0.0           0.0            0.0            0.0   \n",
       "4           0.0           0.0           0.0            0.0            0.0   \n",
       "\n",
       "   IAPRevenueD12  IAPRevenueD13  IAPRevenueD14  IAPRevenueD15  \n",
       "0            0.0            0.0            0.0            0.0  \n",
       "1            0.0            0.0            0.0            0.0  \n",
       "2            0.0            0.0            0.0            0.0  \n",
       "3            0.0            0.0            0.0            0.0  \n",
       "4            0.0            0.0            0.0            0.0  \n",
       "\n",
       "[5 rows x 76 columns]"
      ]
     },
     "execution_count": 5,
     "metadata": {},
     "output_type": "execute_result"
    }
   ],
   "source": [
    "user_features.head()"
   ]
  },
  {
   "cell_type": "code",
   "execution_count": 9,
   "metadata": {},
   "outputs": [
    {
     "data": {
      "text/html": [
       "<div>\n",
       "<style scoped>\n",
       "    .dataframe tbody tr th:only-of-type {\n",
       "        vertical-align: middle;\n",
       "    }\n",
       "\n",
       "    .dataframe tbody tr th {\n",
       "        vertical-align: top;\n",
       "    }\n",
       "\n",
       "    .dataframe thead th {\n",
       "        text-align: right;\n",
       "    }\n",
       "</style>\n",
       "<table border=\"1\" class=\"dataframe\">\n",
       "  <thead>\n",
       "    <tr style=\"text-align: right;\">\n",
       "      <th></th>\n",
       "      <th>ID</th>\n",
       "      <th>first_prediction</th>\n",
       "      <th>RetentionD0</th>\n",
       "      <th>RetentionD1</th>\n",
       "      <th>RetentionD2</th>\n",
       "      <th>RetentionD3</th>\n",
       "      <th>RetentionD4</th>\n",
       "      <th>RetentionD5</th>\n",
       "      <th>RetentionD6</th>\n",
       "      <th>RetentionD7</th>\n",
       "      <th>...</th>\n",
       "      <th>IAPRevenueD6</th>\n",
       "      <th>IAPRevenueD7</th>\n",
       "      <th>IAPRevenueD8</th>\n",
       "      <th>IAPRevenueD9</th>\n",
       "      <th>IAPRevenueD10</th>\n",
       "      <th>IAPRevenueD11</th>\n",
       "      <th>IAPRevenueD12</th>\n",
       "      <th>IAPRevenueD13</th>\n",
       "      <th>IAPRevenueD14</th>\n",
       "      <th>IAPRevenueD15</th>\n",
       "    </tr>\n",
       "  </thead>\n",
       "  <tbody>\n",
       "    <tr>\n",
       "      <th>0</th>\n",
       "      <td>878594</td>\n",
       "      <td>1.444805</td>\n",
       "      <td>True</td>\n",
       "      <td>True</td>\n",
       "      <td>True</td>\n",
       "      <td>True</td>\n",
       "      <td>True</td>\n",
       "      <td>False</td>\n",
       "      <td>False</td>\n",
       "      <td>False</td>\n",
       "      <td>...</td>\n",
       "      <td>0.0</td>\n",
       "      <td>0.0</td>\n",
       "      <td>0.0</td>\n",
       "      <td>0.0</td>\n",
       "      <td>0.0</td>\n",
       "      <td>0.0</td>\n",
       "      <td>0.0</td>\n",
       "      <td>0.0</td>\n",
       "      <td>0.0</td>\n",
       "      <td>0.0</td>\n",
       "    </tr>\n",
       "    <tr>\n",
       "      <th>1</th>\n",
       "      <td>878595</td>\n",
       "      <td>9.147972</td>\n",
       "      <td>True</td>\n",
       "      <td>False</td>\n",
       "      <td>False</td>\n",
       "      <td>False</td>\n",
       "      <td>False</td>\n",
       "      <td>False</td>\n",
       "      <td>False</td>\n",
       "      <td>False</td>\n",
       "      <td>...</td>\n",
       "      <td>0.0</td>\n",
       "      <td>0.0</td>\n",
       "      <td>0.0</td>\n",
       "      <td>0.0</td>\n",
       "      <td>0.0</td>\n",
       "      <td>0.0</td>\n",
       "      <td>0.0</td>\n",
       "      <td>0.0</td>\n",
       "      <td>0.0</td>\n",
       "      <td>0.0</td>\n",
       "    </tr>\n",
       "    <tr>\n",
       "      <th>2</th>\n",
       "      <td>878596</td>\n",
       "      <td>40.731158</td>\n",
       "      <td>True</td>\n",
       "      <td>False</td>\n",
       "      <td>False</td>\n",
       "      <td>False</td>\n",
       "      <td>False</td>\n",
       "      <td>False</td>\n",
       "      <td>False</td>\n",
       "      <td>False</td>\n",
       "      <td>...</td>\n",
       "      <td>0.0</td>\n",
       "      <td>0.0</td>\n",
       "      <td>0.0</td>\n",
       "      <td>0.0</td>\n",
       "      <td>0.0</td>\n",
       "      <td>0.0</td>\n",
       "      <td>0.0</td>\n",
       "      <td>0.0</td>\n",
       "      <td>0.0</td>\n",
       "      <td>0.0</td>\n",
       "    </tr>\n",
       "    <tr>\n",
       "      <th>3</th>\n",
       "      <td>878597</td>\n",
       "      <td>4.967959</td>\n",
       "      <td>True</td>\n",
       "      <td>False</td>\n",
       "      <td>False</td>\n",
       "      <td>True</td>\n",
       "      <td>False</td>\n",
       "      <td>True</td>\n",
       "      <td>True</td>\n",
       "      <td>False</td>\n",
       "      <td>...</td>\n",
       "      <td>0.0</td>\n",
       "      <td>0.0</td>\n",
       "      <td>0.0</td>\n",
       "      <td>0.0</td>\n",
       "      <td>0.0</td>\n",
       "      <td>0.0</td>\n",
       "      <td>0.0</td>\n",
       "      <td>0.0</td>\n",
       "      <td>0.0</td>\n",
       "      <td>0.0</td>\n",
       "    </tr>\n",
       "    <tr>\n",
       "      <th>4</th>\n",
       "      <td>878598</td>\n",
       "      <td>2.445842</td>\n",
       "      <td>True</td>\n",
       "      <td>False</td>\n",
       "      <td>True</td>\n",
       "      <td>True</td>\n",
       "      <td>True</td>\n",
       "      <td>True</td>\n",
       "      <td>False</td>\n",
       "      <td>False</td>\n",
       "      <td>...</td>\n",
       "      <td>0.0</td>\n",
       "      <td>0.0</td>\n",
       "      <td>0.0</td>\n",
       "      <td>0.0</td>\n",
       "      <td>0.0</td>\n",
       "      <td>0.0</td>\n",
       "      <td>0.0</td>\n",
       "      <td>0.0</td>\n",
       "      <td>0.0</td>\n",
       "      <td>0.0</td>\n",
       "    </tr>\n",
       "  </tbody>\n",
       "</table>\n",
       "<p>5 rows × 76 columns</p>\n",
       "</div>"
      ],
      "text/plain": [
       "       ID  first_prediction  RetentionD0  RetentionD1  RetentionD2  \\\n",
       "0  878594          1.444805         True         True         True   \n",
       "1  878595          9.147972         True        False        False   \n",
       "2  878596         40.731158         True        False        False   \n",
       "3  878597          4.967959         True        False        False   \n",
       "4  878598          2.445842         True        False         True   \n",
       "\n",
       "   RetentionD3  RetentionD4  RetentionD5  RetentionD6  RetentionD7  ...  \\\n",
       "0         True         True        False        False        False  ...   \n",
       "1        False        False        False        False        False  ...   \n",
       "2        False        False        False        False        False  ...   \n",
       "3         True        False         True         True        False  ...   \n",
       "4         True         True         True        False        False  ...   \n",
       "\n",
       "   IAPRevenueD6  IAPRevenueD7  IAPRevenueD8  IAPRevenueD9  IAPRevenueD10  \\\n",
       "0           0.0           0.0           0.0           0.0            0.0   \n",
       "1           0.0           0.0           0.0           0.0            0.0   \n",
       "2           0.0           0.0           0.0           0.0            0.0   \n",
       "3           0.0           0.0           0.0           0.0            0.0   \n",
       "4           0.0           0.0           0.0           0.0            0.0   \n",
       "\n",
       "   IAPRevenueD11  IAPRevenueD12  IAPRevenueD13  IAPRevenueD14  IAPRevenueD15  \n",
       "0            0.0            0.0            0.0            0.0            0.0  \n",
       "1            0.0            0.0            0.0            0.0            0.0  \n",
       "2            0.0            0.0            0.0            0.0            0.0  \n",
       "3            0.0            0.0            0.0            0.0            0.0  \n",
       "4            0.0            0.0            0.0            0.0            0.0  \n",
       "\n",
       "[5 rows x 76 columns]"
      ]
     },
     "execution_count": 9,
     "metadata": {},
     "output_type": "execute_result"
    }
   ],
   "source": [
    "user_features_test.head()"
   ]
  },
  {
   "cell_type": "code",
   "execution_count": 6,
   "metadata": {},
   "outputs": [
    {
     "data": {
      "text/html": [
       "<div>\n",
       "<style scoped>\n",
       "    .dataframe tbody tr th:only-of-type {\n",
       "        vertical-align: middle;\n",
       "    }\n",
       "\n",
       "    .dataframe tbody tr th {\n",
       "        vertical-align: top;\n",
       "    }\n",
       "\n",
       "    .dataframe thead th {\n",
       "        text-align: right;\n",
       "    }\n",
       "</style>\n",
       "<table border=\"1\" class=\"dataframe\">\n",
       "  <thead>\n",
       "    <tr style=\"text-align: right;\">\n",
       "      <th></th>\n",
       "      <th>ID</th>\n",
       "      <th>first_open_date</th>\n",
       "      <th>first_open_timestamp</th>\n",
       "      <th>local_first_open_timestamp</th>\n",
       "      <th>country</th>\n",
       "      <th>platform</th>\n",
       "      <th>device_category</th>\n",
       "      <th>device_brand</th>\n",
       "      <th>device_model</th>\n",
       "      <th>has_ios_att_permission</th>\n",
       "      <th>ad_network</th>\n",
       "    </tr>\n",
       "  </thead>\n",
       "  <tbody>\n",
       "    <tr>\n",
       "      <th>0</th>\n",
       "      <td>0</td>\n",
       "      <td>2024-03-02</td>\n",
       "      <td>1709355895042000</td>\n",
       "      <td>1709334295042000</td>\n",
       "      <td>Mexico</td>\n",
       "      <td>Android</td>\n",
       "      <td>mobile</td>\n",
       "      <td>Xiaomi</td>\n",
       "      <td>Redmi A2</td>\n",
       "      <td>False</td>\n",
       "      <td>unityads_int</td>\n",
       "    </tr>\n",
       "    <tr>\n",
       "      <th>1</th>\n",
       "      <td>1</td>\n",
       "      <td>2024-03-19</td>\n",
       "      <td>1710824539731000</td>\n",
       "      <td>1710806539731000</td>\n",
       "      <td>Peru</td>\n",
       "      <td>Android</td>\n",
       "      <td>mobile</td>\n",
       "      <td>Samsung</td>\n",
       "      <td>Galaxy A13</td>\n",
       "      <td>False</td>\n",
       "      <td>applovin_int</td>\n",
       "    </tr>\n",
       "    <tr>\n",
       "      <th>2</th>\n",
       "      <td>2</td>\n",
       "      <td>2024-03-18</td>\n",
       "      <td>1710731043082000</td>\n",
       "      <td>1710720243082000</td>\n",
       "      <td>Brazil</td>\n",
       "      <td>Android</td>\n",
       "      <td>mobile</td>\n",
       "      <td>Xiaomi</td>\n",
       "      <td>Redmi 12</td>\n",
       "      <td>False</td>\n",
       "      <td>applovin_int</td>\n",
       "    </tr>\n",
       "    <tr>\n",
       "      <th>3</th>\n",
       "      <td>3</td>\n",
       "      <td>2024-03-03</td>\n",
       "      <td>1709455862260000</td>\n",
       "      <td>1709441462260000</td>\n",
       "      <td>Dominican Republic</td>\n",
       "      <td>iOS</td>\n",
       "      <td>mobile</td>\n",
       "      <td>Apple</td>\n",
       "      <td>iPhone 11 Pro Max</td>\n",
       "      <td>False</td>\n",
       "      <td>NaN</td>\n",
       "    </tr>\n",
       "    <tr>\n",
       "      <th>4</th>\n",
       "      <td>4</td>\n",
       "      <td>2024-04-30</td>\n",
       "      <td>1714482477190000</td>\n",
       "      <td>1714464477190000</td>\n",
       "      <td>Ecuador</td>\n",
       "      <td>Android</td>\n",
       "      <td>mobile</td>\n",
       "      <td>Motorola</td>\n",
       "      <td>Moto E22</td>\n",
       "      <td>False</td>\n",
       "      <td>applovin_int</td>\n",
       "    </tr>\n",
       "  </tbody>\n",
       "</table>\n",
       "</div>"
      ],
      "text/plain": [
       "   ID first_open_date  first_open_timestamp  local_first_open_timestamp  \\\n",
       "0   0      2024-03-02      1709355895042000            1709334295042000   \n",
       "1   1      2024-03-19      1710824539731000            1710806539731000   \n",
       "2   2      2024-03-18      1710731043082000            1710720243082000   \n",
       "3   3      2024-03-03      1709455862260000            1709441462260000   \n",
       "4   4      2024-04-30      1714482477190000            1714464477190000   \n",
       "\n",
       "              country platform device_category device_brand  \\\n",
       "0              Mexico  Android          mobile       Xiaomi   \n",
       "1                Peru  Android          mobile      Samsung   \n",
       "2              Brazil  Android          mobile       Xiaomi   \n",
       "3  Dominican Republic      iOS          mobile        Apple   \n",
       "4             Ecuador  Android          mobile     Motorola   \n",
       "\n",
       "        device_model  has_ios_att_permission    ad_network  \n",
       "0           Redmi A2                   False  unityads_int  \n",
       "1         Galaxy A13                   False  applovin_int  \n",
       "2           Redmi 12                   False  applovin_int  \n",
       "3  iPhone 11 Pro Max                   False           NaN  \n",
       "4           Moto E22                   False  applovin_int  "
      ]
     },
     "execution_count": 6,
     "metadata": {},
     "output_type": "execute_result"
    }
   ],
   "source": [
    "users.head()"
   ]
  },
  {
   "cell_type": "code",
   "execution_count": 10,
   "metadata": {},
   "outputs": [
    {
     "data": {
      "text/html": [
       "<div>\n",
       "<style scoped>\n",
       "    .dataframe tbody tr th:only-of-type {\n",
       "        vertical-align: middle;\n",
       "    }\n",
       "\n",
       "    .dataframe tbody tr th {\n",
       "        vertical-align: top;\n",
       "    }\n",
       "\n",
       "    .dataframe thead th {\n",
       "        text-align: right;\n",
       "    }\n",
       "</style>\n",
       "<table border=\"1\" class=\"dataframe\">\n",
       "  <thead>\n",
       "    <tr style=\"text-align: right;\">\n",
       "      <th></th>\n",
       "      <th>ID</th>\n",
       "      <th>first_open_date</th>\n",
       "      <th>first_open_timestamp</th>\n",
       "      <th>local_first_open_timestamp</th>\n",
       "      <th>country</th>\n",
       "      <th>platform</th>\n",
       "      <th>device_category</th>\n",
       "      <th>device_brand</th>\n",
       "      <th>device_model</th>\n",
       "      <th>has_ios_att_permission</th>\n",
       "      <th>ad_network</th>\n",
       "    </tr>\n",
       "  </thead>\n",
       "  <tbody>\n",
       "    <tr>\n",
       "      <th>0</th>\n",
       "      <td>878594</td>\n",
       "      <td>2024-05-12</td>\n",
       "      <td>1715478163668000</td>\n",
       "      <td>1715467363668000</td>\n",
       "      <td>Argentina</td>\n",
       "      <td>Android</td>\n",
       "      <td>mobile</td>\n",
       "      <td>Motorola</td>\n",
       "      <td>Moto G32</td>\n",
       "      <td>False</td>\n",
       "      <td>applovin_int</td>\n",
       "    </tr>\n",
       "    <tr>\n",
       "      <th>1</th>\n",
       "      <td>878595</td>\n",
       "      <td>2024-01-26</td>\n",
       "      <td>1706254855890000</td>\n",
       "      <td>1706233255890000</td>\n",
       "      <td>Mexico</td>\n",
       "      <td>Android</td>\n",
       "      <td>mobile</td>\n",
       "      <td>OnePlus</td>\n",
       "      <td>Nord N20 SE</td>\n",
       "      <td>False</td>\n",
       "      <td>applovin_int</td>\n",
       "    </tr>\n",
       "    <tr>\n",
       "      <th>2</th>\n",
       "      <td>878596</td>\n",
       "      <td>2024-02-13</td>\n",
       "      <td>1707778260263000</td>\n",
       "      <td>1707781860263000</td>\n",
       "      <td>France</td>\n",
       "      <td>Android</td>\n",
       "      <td>mobile</td>\n",
       "      <td>Motorola</td>\n",
       "      <td>moto g13</td>\n",
       "      <td>False</td>\n",
       "      <td>applovin_int</td>\n",
       "    </tr>\n",
       "    <tr>\n",
       "      <th>3</th>\n",
       "      <td>878597</td>\n",
       "      <td>2024-02-21</td>\n",
       "      <td>1708530744695000</td>\n",
       "      <td>1708519944695000</td>\n",
       "      <td>Brazil</td>\n",
       "      <td>Android</td>\n",
       "      <td>mobile</td>\n",
       "      <td>Samsung</td>\n",
       "      <td>Galaxy A03</td>\n",
       "      <td>False</td>\n",
       "      <td>applovin_int</td>\n",
       "    </tr>\n",
       "    <tr>\n",
       "      <th>4</th>\n",
       "      <td>878598</td>\n",
       "      <td>2024-05-03</td>\n",
       "      <td>1714706093405000</td>\n",
       "      <td>1714688093405000</td>\n",
       "      <td>Peru</td>\n",
       "      <td>Android</td>\n",
       "      <td>mobile</td>\n",
       "      <td>Xiaomi</td>\n",
       "      <td>Redmi 13C</td>\n",
       "      <td>False</td>\n",
       "      <td>applovin_int</td>\n",
       "    </tr>\n",
       "  </tbody>\n",
       "</table>\n",
       "</div>"
      ],
      "text/plain": [
       "       ID first_open_date  first_open_timestamp  local_first_open_timestamp  \\\n",
       "0  878594      2024-05-12      1715478163668000            1715467363668000   \n",
       "1  878595      2024-01-26      1706254855890000            1706233255890000   \n",
       "2  878596      2024-02-13      1707778260263000            1707781860263000   \n",
       "3  878597      2024-02-21      1708530744695000            1708519944695000   \n",
       "4  878598      2024-05-03      1714706093405000            1714688093405000   \n",
       "\n",
       "     country platform device_category device_brand device_model  \\\n",
       "0  Argentina  Android          mobile     Motorola     Moto G32   \n",
       "1     Mexico  Android          mobile      OnePlus  Nord N20 SE   \n",
       "2     France  Android          mobile     Motorola     moto g13   \n",
       "3     Brazil  Android          mobile      Samsung   Galaxy A03   \n",
       "4       Peru  Android          mobile       Xiaomi    Redmi 13C   \n",
       "\n",
       "   has_ios_att_permission    ad_network  \n",
       "0                   False  applovin_int  \n",
       "1                   False  applovin_int  \n",
       "2                   False  applovin_int  \n",
       "3                   False  applovin_int  \n",
       "4                   False  applovin_int  "
      ]
     },
     "execution_count": 10,
     "metadata": {},
     "output_type": "execute_result"
    }
   ],
   "source": [
    "users_test.head()"
   ]
  },
  {
   "cell_type": "code",
   "execution_count": 11,
   "metadata": {},
   "outputs": [
    {
     "data": {
      "text/html": [
       "<div>\n",
       "<style scoped>\n",
       "    .dataframe tbody tr th:only-of-type {\n",
       "        vertical-align: middle;\n",
       "    }\n",
       "\n",
       "    .dataframe tbody tr th {\n",
       "        vertical-align: top;\n",
       "    }\n",
       "\n",
       "    .dataframe thead th {\n",
       "        text-align: right;\n",
       "    }\n",
       "</style>\n",
       "<table border=\"1\" class=\"dataframe\">\n",
       "  <thead>\n",
       "    <tr style=\"text-align: right;\">\n",
       "      <th></th>\n",
       "      <th>ID</th>\n",
       "      <th>TARGET</th>\n",
       "    </tr>\n",
       "  </thead>\n",
       "  <tbody>\n",
       "    <tr>\n",
       "      <th>0</th>\n",
       "      <td>0</td>\n",
       "      <td>0.000000</td>\n",
       "    </tr>\n",
       "    <tr>\n",
       "      <th>1</th>\n",
       "      <td>1</td>\n",
       "      <td>0.018892</td>\n",
       "    </tr>\n",
       "    <tr>\n",
       "      <th>2</th>\n",
       "      <td>2</td>\n",
       "      <td>0.000000</td>\n",
       "    </tr>\n",
       "    <tr>\n",
       "      <th>3</th>\n",
       "      <td>3</td>\n",
       "      <td>0.046650</td>\n",
       "    </tr>\n",
       "    <tr>\n",
       "      <th>4</th>\n",
       "      <td>4</td>\n",
       "      <td>0.014680</td>\n",
       "    </tr>\n",
       "  </tbody>\n",
       "</table>\n",
       "</div>"
      ],
      "text/plain": [
       "   ID    TARGET\n",
       "0   0  0.000000\n",
       "1   1  0.018892\n",
       "2   2  0.000000\n",
       "3   3  0.046650\n",
       "4   4  0.014680"
      ]
     },
     "execution_count": 11,
     "metadata": {},
     "output_type": "execute_result"
    }
   ],
   "source": [
    "target.head()"
   ]
  },
  {
   "cell_type": "code",
   "execution_count": 12,
   "metadata": {},
   "outputs": [
    {
     "data": {
      "text/plain": [
       "ID                      0\n",
       "first_prediction    25735\n",
       "RetentionD0             0\n",
       "RetentionD1             0\n",
       "RetentionD2             0\n",
       "                    ...  \n",
       "IAPRevenueD11           0\n",
       "IAPRevenueD12           0\n",
       "IAPRevenueD13           0\n",
       "IAPRevenueD14           0\n",
       "IAPRevenueD15           0\n",
       "Length: 76, dtype: int64"
      ]
     },
     "execution_count": 12,
     "metadata": {},
     "output_type": "execute_result"
    }
   ],
   "source": [
    "user_features.isna().sum()"
   ]
  },
  {
   "cell_type": "code",
   "execution_count": 14,
   "metadata": {},
   "outputs": [
    {
     "data": {
      "text/plain": [
       "ID                      0\n",
       "first_prediction    17278\n",
       "RetentionD0             0\n",
       "RetentionD1             0\n",
       "RetentionD2             0\n",
       "                    ...  \n",
       "IAPRevenueD11           0\n",
       "IAPRevenueD12           0\n",
       "IAPRevenueD13           0\n",
       "IAPRevenueD14           0\n",
       "IAPRevenueD15           0\n",
       "Length: 76, dtype: int64"
      ]
     },
     "execution_count": 14,
     "metadata": {},
     "output_type": "execute_result"
    }
   ],
   "source": [
    "user_features_test.isna().sum()"
   ]
  },
  {
   "cell_type": "code",
   "execution_count": 15,
   "metadata": {},
   "outputs": [
    {
     "data": {
      "text/plain": [
       "ID        0\n",
       "TARGET    0\n",
       "dtype: int64"
      ]
     },
     "execution_count": 15,
     "metadata": {},
     "output_type": "execute_result"
    }
   ],
   "source": [
    "target.isna().sum()"
   ]
  },
  {
   "cell_type": "code",
   "execution_count": 16,
   "metadata": {},
   "outputs": [
    {
     "data": {
      "text/plain": [
       "ID                                 0\n",
       "first_open_date                    0\n",
       "first_open_timestamp               0\n",
       "local_first_open_timestamp         0\n",
       "country                           82\n",
       "platform                           0\n",
       "device_category                    0\n",
       "device_brand                    5840\n",
       "device_model                       0\n",
       "has_ios_att_permission             0\n",
       "ad_network                    310470\n",
       "dtype: int64"
      ]
     },
     "execution_count": 16,
     "metadata": {},
     "output_type": "execute_result"
    }
   ],
   "source": [
    "users.isna().sum()"
   ]
  },
  {
   "cell_type": "code",
   "execution_count": 17,
   "metadata": {},
   "outputs": [
    {
     "data": {
      "text/plain": [
       "ID                                 0\n",
       "first_open_date                    0\n",
       "first_open_timestamp               0\n",
       "local_first_open_timestamp         0\n",
       "country                           56\n",
       "platform                           0\n",
       "device_category                    0\n",
       "device_brand                    3927\n",
       "device_model                       0\n",
       "has_ios_att_permission             0\n",
       "ad_network                    206591\n",
       "dtype: int64"
      ]
     },
     "execution_count": 17,
     "metadata": {},
     "output_type": "execute_result"
    }
   ],
   "source": [
    "users_test.isna().sum()"
   ]
  },
  {
   "cell_type": "code",
   "execution_count": 18,
   "metadata": {},
   "outputs": [
    {
     "data": {
      "text/plain": [
       "has_ios_att_permission\n",
       "False    764921\n",
       "True     113673\n",
       "Name: count, dtype: int64"
      ]
     },
     "execution_count": 18,
     "metadata": {},
     "output_type": "execute_result"
    }
   ],
   "source": [
    "users[\"has_ios_att_permission\"].value_counts()"
   ]
  },
  {
   "cell_type": "code",
   "execution_count": 19,
   "metadata": {},
   "outputs": [
    {
     "data": {
      "text/plain": [
       "device_brand\n",
       "Apple          363623\n",
       "Samsung        225831\n",
       "Xiaomi          82158\n",
       "Motorola        76009\n",
       "OPPO            22920\n",
       "                ...  \n",
       "Aiprotablet         1\n",
       "Fossibot            1\n",
       "Meitu               1\n",
       "Tagital             1\n",
       "Movisun             1\n",
       "Name: count, Length: 295, dtype: int64"
      ]
     },
     "execution_count": 19,
     "metadata": {},
     "output_type": "execute_result"
    }
   ],
   "source": [
    "users[\"device_brand\"].value_counts()"
   ]
  },
  {
   "cell_type": "code",
   "execution_count": 20,
   "metadata": {},
   "outputs": [
    {
     "data": {
      "text/plain": [
       "0              0\n",
       "1              1\n",
       "2              2\n",
       "3              3\n",
       "4              4\n",
       "           ...  \n",
       "878589    878589\n",
       "878590    878590\n",
       "878591    878591\n",
       "878592    878592\n",
       "878593    878593\n",
       "Name: ID, Length: 878594, dtype: int64"
      ]
     },
     "execution_count": 20,
     "metadata": {},
     "output_type": "execute_result"
    }
   ],
   "source": [
    "users[\"ID\"]"
   ]
  },
  {
   "cell_type": "code",
   "execution_count": 21,
   "metadata": {},
   "outputs": [],
   "source": [
    "merged_df = pd.merge(users, user_features, on = \"ID\")\n",
    "df = pd.merge(merged_df, target, on=\"ID\")"
   ]
  },
  {
   "cell_type": "code",
   "execution_count": 56,
   "metadata": {},
   "outputs": [],
   "source": [
    "test_df = pd.merge(users_test, user_features_test, on = \"ID\")"
   ]
  },
  {
   "cell_type": "code",
   "execution_count": 57,
   "metadata": {},
   "outputs": [],
   "source": [
    "#Leaving outside the players that uninstalled the game\n",
    "\n",
    "retention_columns = [f\"RetentionD{i}\" for i in range(0, 16)]\n",
    "\n",
    "#A function to calculate last active day of player\n",
    "\n",
    "def last_active_day(row):\n",
    "    for day in range(15,-1,-1):\n",
    "        if row[f\"RetentionD{day}\"] == True:\n",
    "            return day\n",
    "    return 0 \n"
   ]
  },
  {
   "cell_type": "code",
   "execution_count": 24,
   "metadata": {},
   "outputs": [],
   "source": [
    "df[\"Last Active Day\"] = df.apply(last_active_day, axis=1)"
   ]
  },
  {
   "cell_type": "code",
   "execution_count": 58,
   "metadata": {},
   "outputs": [],
   "source": [
    "test_df[\"Last Active Day\"] = test_df.apply(last_active_day, axis=1)"
   ]
  },
  {
   "cell_type": "code",
   "execution_count": 25,
   "metadata": {},
   "outputs": [
    {
     "data": {
      "text/plain": [
       "0     12\n",
       "1      9\n",
       "2      0\n",
       "3      2\n",
       "4      0\n",
       "5      2\n",
       "6      2\n",
       "7      0\n",
       "8      6\n",
       "9      1\n",
       "10     0\n",
       "11     1\n",
       "12    15\n",
       "13     7\n",
       "14     2\n",
       "15     8\n",
       "16     0\n",
       "17     0\n",
       "18     0\n",
       "19     9\n",
       "Name: Last Active Day, dtype: int64"
      ]
     },
     "execution_count": 25,
     "metadata": {},
     "output_type": "execute_result"
    }
   ],
   "source": [
    "df[\"Last Active Day\"].head(20)"
   ]
  },
  {
   "cell_type": "code",
   "execution_count": 59,
   "metadata": {},
   "outputs": [
    {
     "data": {
      "text/plain": [
       "0      4\n",
       "1      0\n",
       "2      0\n",
       "3      9\n",
       "4      5\n",
       "5      0\n",
       "6      9\n",
       "7      0\n",
       "8     13\n",
       "9     14\n",
       "10     1\n",
       "11     1\n",
       "12     2\n",
       "13     1\n",
       "14    13\n",
       "15    15\n",
       "16     0\n",
       "17     1\n",
       "18     5\n",
       "19     0\n",
       "Name: Last Active Day, dtype: int64"
      ]
     },
     "execution_count": 59,
     "metadata": {},
     "output_type": "execute_result"
    }
   ],
   "source": [
    "test_df[\"Last Active Day\"].head(20)"
   ]
  },
  {
   "cell_type": "code",
   "execution_count": 60,
   "metadata": {},
   "outputs": [],
   "source": [
    "def count_retention_values(row):\n",
    "    true_count = sum(row[col] == True for col in retention_columns)\n",
    "    false_count = sum(row[col] == False for col in retention_columns)\n",
    "    return pd.Series([true_count, false_count], index=['True_count', 'False_count'])"
   ]
  },
  {
   "cell_type": "code",
   "execution_count": 61,
   "metadata": {},
   "outputs": [],
   "source": [
    "#8. günden sonra oynaması lazım 5 günden az oynamaması lazım\n",
    "\n",
    "df[['True_count', 'False_count']] = df.apply(count_retention_values, axis=1)"
   ]
  },
  {
   "cell_type": "code",
   "execution_count": 62,
   "metadata": {},
   "outputs": [],
   "source": [
    "test_df[['True_count', 'False_count']] = test_df.apply(count_retention_values, axis=1)"
   ]
  },
  {
   "cell_type": "code",
   "execution_count": 63,
   "metadata": {},
   "outputs": [],
   "source": [
    "def active_after_day8(row):\n",
    "    return any(row[f\"RetentionD{i}\"] == True for i in range(8, 16))"
   ]
  },
  {
   "cell_type": "code",
   "execution_count": 64,
   "metadata": {},
   "outputs": [],
   "source": [
    "def active_in_first_8_days(row):\n",
    "    return sum(row[f\"RetentionD{i}\"] == True for i in range(0, 8)) >= 5"
   ]
  },
  {
   "cell_type": "code",
   "execution_count": 65,
   "metadata": {},
   "outputs": [],
   "source": [
    "df['Active after 8'] = df.apply(active_after_day8, axis=1)\n",
    "df['Active in first 8 days'] = df.apply(active_in_first_8_days, axis=1)"
   ]
  },
  {
   "cell_type": "code",
   "execution_count": 66,
   "metadata": {},
   "outputs": [],
   "source": [
    "test_df['Active after 8'] = test_df.apply(active_after_day8, axis=1)\n",
    "test_df['Active in first 8 days'] = test_df.apply(active_in_first_8_days, axis=1)"
   ]
  },
  {
   "cell_type": "code",
   "execution_count": 67,
   "metadata": {},
   "outputs": [],
   "source": [
    "filtered_df = df[(df['Active after 8'] == True) | ((df[\"Active after 8\"] == False) & (df['Active in first 8 days'] == True))]"
   ]
  },
  {
   "cell_type": "code",
   "execution_count": 68,
   "metadata": {},
   "outputs": [],
   "source": [
    "filtered_test_df = test_df[(test_df['Active after 8'] == True) | ((test_df[\"Active after 8\"] == False) & (test_df['Active in first 8 days'] == True))]"
   ]
  },
  {
   "cell_type": "code",
   "execution_count": 69,
   "metadata": {},
   "outputs": [],
   "source": [
    "excluded_df = df[~df['ID'].isin(filtered_df['ID'])]"
   ]
  },
  {
   "cell_type": "code",
   "execution_count": 70,
   "metadata": {},
   "outputs": [],
   "source": [
    "excluded_test_df = test_df[~test_df['ID'].isin(filtered_test_df['ID'])]"
   ]
  },
  {
   "cell_type": "code",
   "execution_count": 71,
   "metadata": {},
   "outputs": [
    {
     "data": {
      "text/html": [
       "<div>\n",
       "<style scoped>\n",
       "    .dataframe tbody tr th:only-of-type {\n",
       "        vertical-align: middle;\n",
       "    }\n",
       "\n",
       "    .dataframe tbody tr th {\n",
       "        vertical-align: top;\n",
       "    }\n",
       "\n",
       "    .dataframe thead th {\n",
       "        text-align: right;\n",
       "    }\n",
       "</style>\n",
       "<table border=\"1\" class=\"dataframe\">\n",
       "  <thead>\n",
       "    <tr style=\"text-align: right;\">\n",
       "      <th></th>\n",
       "      <th>ID</th>\n",
       "      <th>first_open_date</th>\n",
       "      <th>first_open_timestamp</th>\n",
       "      <th>local_first_open_timestamp</th>\n",
       "      <th>country</th>\n",
       "      <th>platform</th>\n",
       "      <th>device_category</th>\n",
       "      <th>device_brand</th>\n",
       "      <th>device_model</th>\n",
       "      <th>has_ios_att_permission</th>\n",
       "      <th>...</th>\n",
       "      <th>IAPRevenueD12</th>\n",
       "      <th>IAPRevenueD13</th>\n",
       "      <th>IAPRevenueD14</th>\n",
       "      <th>IAPRevenueD15</th>\n",
       "      <th>TARGET</th>\n",
       "      <th>Last Active Day</th>\n",
       "      <th>True_count</th>\n",
       "      <th>False_count</th>\n",
       "      <th>Active after 8</th>\n",
       "      <th>Active in first 8 days</th>\n",
       "    </tr>\n",
       "  </thead>\n",
       "  <tbody>\n",
       "    <tr>\n",
       "      <th>0</th>\n",
       "      <td>0</td>\n",
       "      <td>2024-03-02</td>\n",
       "      <td>1709355895042000</td>\n",
       "      <td>1709334295042000</td>\n",
       "      <td>Mexico</td>\n",
       "      <td>Android</td>\n",
       "      <td>mobile</td>\n",
       "      <td>Xiaomi</td>\n",
       "      <td>Redmi A2</td>\n",
       "      <td>False</td>\n",
       "      <td>...</td>\n",
       "      <td>0.0</td>\n",
       "      <td>0.0</td>\n",
       "      <td>0.0</td>\n",
       "      <td>0.0</td>\n",
       "      <td>0.000000</td>\n",
       "      <td>12</td>\n",
       "      <td>2</td>\n",
       "      <td>14</td>\n",
       "      <td>True</td>\n",
       "      <td>False</td>\n",
       "    </tr>\n",
       "    <tr>\n",
       "      <th>1</th>\n",
       "      <td>1</td>\n",
       "      <td>2024-03-19</td>\n",
       "      <td>1710824539731000</td>\n",
       "      <td>1710806539731000</td>\n",
       "      <td>Peru</td>\n",
       "      <td>Android</td>\n",
       "      <td>mobile</td>\n",
       "      <td>Samsung</td>\n",
       "      <td>Galaxy A13</td>\n",
       "      <td>False</td>\n",
       "      <td>...</td>\n",
       "      <td>0.0</td>\n",
       "      <td>0.0</td>\n",
       "      <td>0.0</td>\n",
       "      <td>0.0</td>\n",
       "      <td>0.018892</td>\n",
       "      <td>9</td>\n",
       "      <td>4</td>\n",
       "      <td>12</td>\n",
       "      <td>True</td>\n",
       "      <td>False</td>\n",
       "    </tr>\n",
       "    <tr>\n",
       "      <th>2</th>\n",
       "      <td>2</td>\n",
       "      <td>2024-03-18</td>\n",
       "      <td>1710731043082000</td>\n",
       "      <td>1710720243082000</td>\n",
       "      <td>Brazil</td>\n",
       "      <td>Android</td>\n",
       "      <td>mobile</td>\n",
       "      <td>Xiaomi</td>\n",
       "      <td>Redmi 12</td>\n",
       "      <td>False</td>\n",
       "      <td>...</td>\n",
       "      <td>0.0</td>\n",
       "      <td>0.0</td>\n",
       "      <td>0.0</td>\n",
       "      <td>0.0</td>\n",
       "      <td>0.000000</td>\n",
       "      <td>0</td>\n",
       "      <td>1</td>\n",
       "      <td>15</td>\n",
       "      <td>False</td>\n",
       "      <td>False</td>\n",
       "    </tr>\n",
       "    <tr>\n",
       "      <th>3</th>\n",
       "      <td>3</td>\n",
       "      <td>2024-03-03</td>\n",
       "      <td>1709455862260000</td>\n",
       "      <td>1709441462260000</td>\n",
       "      <td>Dominican Republic</td>\n",
       "      <td>iOS</td>\n",
       "      <td>mobile</td>\n",
       "      <td>Apple</td>\n",
       "      <td>iPhone 11 Pro Max</td>\n",
       "      <td>False</td>\n",
       "      <td>...</td>\n",
       "      <td>0.0</td>\n",
       "      <td>0.0</td>\n",
       "      <td>0.0</td>\n",
       "      <td>0.0</td>\n",
       "      <td>0.046650</td>\n",
       "      <td>2</td>\n",
       "      <td>3</td>\n",
       "      <td>13</td>\n",
       "      <td>False</td>\n",
       "      <td>False</td>\n",
       "    </tr>\n",
       "    <tr>\n",
       "      <th>4</th>\n",
       "      <td>4</td>\n",
       "      <td>2024-04-30</td>\n",
       "      <td>1714482477190000</td>\n",
       "      <td>1714464477190000</td>\n",
       "      <td>Ecuador</td>\n",
       "      <td>Android</td>\n",
       "      <td>mobile</td>\n",
       "      <td>Motorola</td>\n",
       "      <td>Moto E22</td>\n",
       "      <td>False</td>\n",
       "      <td>...</td>\n",
       "      <td>0.0</td>\n",
       "      <td>0.0</td>\n",
       "      <td>0.0</td>\n",
       "      <td>0.0</td>\n",
       "      <td>0.014680</td>\n",
       "      <td>0</td>\n",
       "      <td>1</td>\n",
       "      <td>15</td>\n",
       "      <td>False</td>\n",
       "      <td>False</td>\n",
       "    </tr>\n",
       "  </tbody>\n",
       "</table>\n",
       "<p>5 rows × 92 columns</p>\n",
       "</div>"
      ],
      "text/plain": [
       "   ID first_open_date  first_open_timestamp  local_first_open_timestamp  \\\n",
       "0   0      2024-03-02      1709355895042000            1709334295042000   \n",
       "1   1      2024-03-19      1710824539731000            1710806539731000   \n",
       "2   2      2024-03-18      1710731043082000            1710720243082000   \n",
       "3   3      2024-03-03      1709455862260000            1709441462260000   \n",
       "4   4      2024-04-30      1714482477190000            1714464477190000   \n",
       "\n",
       "              country platform device_category device_brand  \\\n",
       "0              Mexico  Android          mobile       Xiaomi   \n",
       "1                Peru  Android          mobile      Samsung   \n",
       "2              Brazil  Android          mobile       Xiaomi   \n",
       "3  Dominican Republic      iOS          mobile        Apple   \n",
       "4             Ecuador  Android          mobile     Motorola   \n",
       "\n",
       "        device_model  has_ios_att_permission  ... IAPRevenueD12  \\\n",
       "0           Redmi A2                   False  ...           0.0   \n",
       "1         Galaxy A13                   False  ...           0.0   \n",
       "2           Redmi 12                   False  ...           0.0   \n",
       "3  iPhone 11 Pro Max                   False  ...           0.0   \n",
       "4           Moto E22                   False  ...           0.0   \n",
       "\n",
       "   IAPRevenueD13  IAPRevenueD14  IAPRevenueD15    TARGET  Last Active Day  \\\n",
       "0            0.0            0.0            0.0  0.000000               12   \n",
       "1            0.0            0.0            0.0  0.018892                9   \n",
       "2            0.0            0.0            0.0  0.000000                0   \n",
       "3            0.0            0.0            0.0  0.046650                2   \n",
       "4            0.0            0.0            0.0  0.014680                0   \n",
       "\n",
       "   True_count  False_count  Active after 8  Active in first 8 days  \n",
       "0           2           14            True                   False  \n",
       "1           4           12            True                   False  \n",
       "2           1           15           False                   False  \n",
       "3           3           13           False                   False  \n",
       "4           1           15           False                   False  \n",
       "\n",
       "[5 rows x 92 columns]"
      ]
     },
     "execution_count": 71,
     "metadata": {},
     "output_type": "execute_result"
    }
   ],
   "source": [
    "df.head()"
   ]
  },
  {
   "cell_type": "code",
   "execution_count": 72,
   "metadata": {},
   "outputs": [
    {
     "data": {
      "text/html": [
       "<div>\n",
       "<style scoped>\n",
       "    .dataframe tbody tr th:only-of-type {\n",
       "        vertical-align: middle;\n",
       "    }\n",
       "\n",
       "    .dataframe tbody tr th {\n",
       "        vertical-align: top;\n",
       "    }\n",
       "\n",
       "    .dataframe thead th {\n",
       "        text-align: right;\n",
       "    }\n",
       "</style>\n",
       "<table border=\"1\" class=\"dataframe\">\n",
       "  <thead>\n",
       "    <tr style=\"text-align: right;\">\n",
       "      <th></th>\n",
       "      <th>ID</th>\n",
       "      <th>first_open_date</th>\n",
       "      <th>first_open_timestamp</th>\n",
       "      <th>local_first_open_timestamp</th>\n",
       "      <th>country</th>\n",
       "      <th>platform</th>\n",
       "      <th>device_category</th>\n",
       "      <th>device_brand</th>\n",
       "      <th>device_model</th>\n",
       "      <th>has_ios_att_permission</th>\n",
       "      <th>...</th>\n",
       "      <th>IAPRevenueD12</th>\n",
       "      <th>IAPRevenueD13</th>\n",
       "      <th>IAPRevenueD14</th>\n",
       "      <th>IAPRevenueD15</th>\n",
       "      <th>TARGET</th>\n",
       "      <th>Last Active Day</th>\n",
       "      <th>True_count</th>\n",
       "      <th>False_count</th>\n",
       "      <th>Active after 8</th>\n",
       "      <th>Active in first 8 days</th>\n",
       "    </tr>\n",
       "  </thead>\n",
       "  <tbody>\n",
       "    <tr>\n",
       "      <th>2</th>\n",
       "      <td>2</td>\n",
       "      <td>2024-03-18</td>\n",
       "      <td>1710731043082000</td>\n",
       "      <td>1710720243082000</td>\n",
       "      <td>Brazil</td>\n",
       "      <td>Android</td>\n",
       "      <td>mobile</td>\n",
       "      <td>Xiaomi</td>\n",
       "      <td>Redmi 12</td>\n",
       "      <td>False</td>\n",
       "      <td>...</td>\n",
       "      <td>0.0</td>\n",
       "      <td>0.0</td>\n",
       "      <td>0.0</td>\n",
       "      <td>0.0</td>\n",
       "      <td>0.00000</td>\n",
       "      <td>0</td>\n",
       "      <td>1</td>\n",
       "      <td>15</td>\n",
       "      <td>False</td>\n",
       "      <td>False</td>\n",
       "    </tr>\n",
       "    <tr>\n",
       "      <th>3</th>\n",
       "      <td>3</td>\n",
       "      <td>2024-03-03</td>\n",
       "      <td>1709455862260000</td>\n",
       "      <td>1709441462260000</td>\n",
       "      <td>Dominican Republic</td>\n",
       "      <td>iOS</td>\n",
       "      <td>mobile</td>\n",
       "      <td>Apple</td>\n",
       "      <td>iPhone 11 Pro Max</td>\n",
       "      <td>False</td>\n",
       "      <td>...</td>\n",
       "      <td>0.0</td>\n",
       "      <td>0.0</td>\n",
       "      <td>0.0</td>\n",
       "      <td>0.0</td>\n",
       "      <td>0.04665</td>\n",
       "      <td>2</td>\n",
       "      <td>3</td>\n",
       "      <td>13</td>\n",
       "      <td>False</td>\n",
       "      <td>False</td>\n",
       "    </tr>\n",
       "    <tr>\n",
       "      <th>4</th>\n",
       "      <td>4</td>\n",
       "      <td>2024-04-30</td>\n",
       "      <td>1714482477190000</td>\n",
       "      <td>1714464477190000</td>\n",
       "      <td>Ecuador</td>\n",
       "      <td>Android</td>\n",
       "      <td>mobile</td>\n",
       "      <td>Motorola</td>\n",
       "      <td>Moto E22</td>\n",
       "      <td>False</td>\n",
       "      <td>...</td>\n",
       "      <td>0.0</td>\n",
       "      <td>0.0</td>\n",
       "      <td>0.0</td>\n",
       "      <td>0.0</td>\n",
       "      <td>0.01468</td>\n",
       "      <td>0</td>\n",
       "      <td>1</td>\n",
       "      <td>15</td>\n",
       "      <td>False</td>\n",
       "      <td>False</td>\n",
       "    </tr>\n",
       "    <tr>\n",
       "      <th>5</th>\n",
       "      <td>5</td>\n",
       "      <td>2024-04-23</td>\n",
       "      <td>1713905887691000</td>\n",
       "      <td>1713887887691000</td>\n",
       "      <td>Colombia</td>\n",
       "      <td>Android</td>\n",
       "      <td>mobile</td>\n",
       "      <td>Xiaomi</td>\n",
       "      <td>Redmi Note 8</td>\n",
       "      <td>False</td>\n",
       "      <td>...</td>\n",
       "      <td>0.0</td>\n",
       "      <td>0.0</td>\n",
       "      <td>0.0</td>\n",
       "      <td>0.0</td>\n",
       "      <td>0.00000</td>\n",
       "      <td>2</td>\n",
       "      <td>3</td>\n",
       "      <td>13</td>\n",
       "      <td>False</td>\n",
       "      <td>False</td>\n",
       "    </tr>\n",
       "    <tr>\n",
       "      <th>6</th>\n",
       "      <td>6</td>\n",
       "      <td>2024-03-30</td>\n",
       "      <td>1711829156974000</td>\n",
       "      <td>1711814756974000</td>\n",
       "      <td>Venezuela</td>\n",
       "      <td>Android</td>\n",
       "      <td>mobile</td>\n",
       "      <td>Samsung</td>\n",
       "      <td>Galaxy S20 FE</td>\n",
       "      <td>False</td>\n",
       "      <td>...</td>\n",
       "      <td>0.0</td>\n",
       "      <td>0.0</td>\n",
       "      <td>0.0</td>\n",
       "      <td>0.0</td>\n",
       "      <td>0.00000</td>\n",
       "      <td>2</td>\n",
       "      <td>2</td>\n",
       "      <td>14</td>\n",
       "      <td>False</td>\n",
       "      <td>False</td>\n",
       "    </tr>\n",
       "  </tbody>\n",
       "</table>\n",
       "<p>5 rows × 92 columns</p>\n",
       "</div>"
      ],
      "text/plain": [
       "   ID first_open_date  first_open_timestamp  local_first_open_timestamp  \\\n",
       "2   2      2024-03-18      1710731043082000            1710720243082000   \n",
       "3   3      2024-03-03      1709455862260000            1709441462260000   \n",
       "4   4      2024-04-30      1714482477190000            1714464477190000   \n",
       "5   5      2024-04-23      1713905887691000            1713887887691000   \n",
       "6   6      2024-03-30      1711829156974000            1711814756974000   \n",
       "\n",
       "              country platform device_category device_brand  \\\n",
       "2              Brazil  Android          mobile       Xiaomi   \n",
       "3  Dominican Republic      iOS          mobile        Apple   \n",
       "4             Ecuador  Android          mobile     Motorola   \n",
       "5            Colombia  Android          mobile       Xiaomi   \n",
       "6           Venezuela  Android          mobile      Samsung   \n",
       "\n",
       "        device_model  has_ios_att_permission  ... IAPRevenueD12  \\\n",
       "2           Redmi 12                   False  ...           0.0   \n",
       "3  iPhone 11 Pro Max                   False  ...           0.0   \n",
       "4           Moto E22                   False  ...           0.0   \n",
       "5       Redmi Note 8                   False  ...           0.0   \n",
       "6      Galaxy S20 FE                   False  ...           0.0   \n",
       "\n",
       "   IAPRevenueD13  IAPRevenueD14  IAPRevenueD15   TARGET  Last Active Day  \\\n",
       "2            0.0            0.0            0.0  0.00000                0   \n",
       "3            0.0            0.0            0.0  0.04665                2   \n",
       "4            0.0            0.0            0.0  0.01468                0   \n",
       "5            0.0            0.0            0.0  0.00000                2   \n",
       "6            0.0            0.0            0.0  0.00000                2   \n",
       "\n",
       "   True_count  False_count  Active after 8  Active in first 8 days  \n",
       "2           1           15           False                   False  \n",
       "3           3           13           False                   False  \n",
       "4           1           15           False                   False  \n",
       "5           3           13           False                   False  \n",
       "6           2           14           False                   False  \n",
       "\n",
       "[5 rows x 92 columns]"
      ]
     },
     "execution_count": 72,
     "metadata": {},
     "output_type": "execute_result"
    }
   ],
   "source": [
    "excluded_df.head()"
   ]
  },
  {
   "cell_type": "code",
   "execution_count": 73,
   "metadata": {},
   "outputs": [
    {
     "data": {
      "text/html": [
       "<div>\n",
       "<style scoped>\n",
       "    .dataframe tbody tr th:only-of-type {\n",
       "        vertical-align: middle;\n",
       "    }\n",
       "\n",
       "    .dataframe tbody tr th {\n",
       "        vertical-align: top;\n",
       "    }\n",
       "\n",
       "    .dataframe thead th {\n",
       "        text-align: right;\n",
       "    }\n",
       "</style>\n",
       "<table border=\"1\" class=\"dataframe\">\n",
       "  <thead>\n",
       "    <tr style=\"text-align: right;\">\n",
       "      <th></th>\n",
       "      <th>ID</th>\n",
       "      <th>first_open_date</th>\n",
       "      <th>first_open_timestamp</th>\n",
       "      <th>local_first_open_timestamp</th>\n",
       "      <th>country</th>\n",
       "      <th>platform</th>\n",
       "      <th>device_category</th>\n",
       "      <th>device_brand</th>\n",
       "      <th>device_model</th>\n",
       "      <th>has_ios_att_permission</th>\n",
       "      <th>...</th>\n",
       "      <th>IAPRevenueD11</th>\n",
       "      <th>IAPRevenueD12</th>\n",
       "      <th>IAPRevenueD13</th>\n",
       "      <th>IAPRevenueD14</th>\n",
       "      <th>IAPRevenueD15</th>\n",
       "      <th>Last Active Day</th>\n",
       "      <th>True_count</th>\n",
       "      <th>False_count</th>\n",
       "      <th>Active after 8</th>\n",
       "      <th>Active in first 8 days</th>\n",
       "    </tr>\n",
       "  </thead>\n",
       "  <tbody>\n",
       "    <tr>\n",
       "      <th>1</th>\n",
       "      <td>878595</td>\n",
       "      <td>2024-01-26</td>\n",
       "      <td>1706254855890000</td>\n",
       "      <td>1706233255890000</td>\n",
       "      <td>Mexico</td>\n",
       "      <td>Android</td>\n",
       "      <td>mobile</td>\n",
       "      <td>OnePlus</td>\n",
       "      <td>Nord N20 SE</td>\n",
       "      <td>False</td>\n",
       "      <td>...</td>\n",
       "      <td>0.0</td>\n",
       "      <td>0.0</td>\n",
       "      <td>0.0</td>\n",
       "      <td>0.0</td>\n",
       "      <td>0.0</td>\n",
       "      <td>0</td>\n",
       "      <td>1</td>\n",
       "      <td>15</td>\n",
       "      <td>False</td>\n",
       "      <td>False</td>\n",
       "    </tr>\n",
       "    <tr>\n",
       "      <th>2</th>\n",
       "      <td>878596</td>\n",
       "      <td>2024-02-13</td>\n",
       "      <td>1707778260263000</td>\n",
       "      <td>1707781860263000</td>\n",
       "      <td>France</td>\n",
       "      <td>Android</td>\n",
       "      <td>mobile</td>\n",
       "      <td>Motorola</td>\n",
       "      <td>moto g13</td>\n",
       "      <td>False</td>\n",
       "      <td>...</td>\n",
       "      <td>0.0</td>\n",
       "      <td>0.0</td>\n",
       "      <td>0.0</td>\n",
       "      <td>0.0</td>\n",
       "      <td>0.0</td>\n",
       "      <td>0</td>\n",
       "      <td>1</td>\n",
       "      <td>15</td>\n",
       "      <td>False</td>\n",
       "      <td>False</td>\n",
       "    </tr>\n",
       "    <tr>\n",
       "      <th>5</th>\n",
       "      <td>878599</td>\n",
       "      <td>2024-03-18</td>\n",
       "      <td>1710765344672000</td>\n",
       "      <td>1710765344672000</td>\n",
       "      <td>United Kingdom</td>\n",
       "      <td>Android</td>\n",
       "      <td>mobile</td>\n",
       "      <td>Samsung</td>\n",
       "      <td>Galaxy A71</td>\n",
       "      <td>False</td>\n",
       "      <td>...</td>\n",
       "      <td>0.0</td>\n",
       "      <td>0.0</td>\n",
       "      <td>0.0</td>\n",
       "      <td>0.0</td>\n",
       "      <td>0.0</td>\n",
       "      <td>0</td>\n",
       "      <td>1</td>\n",
       "      <td>15</td>\n",
       "      <td>False</td>\n",
       "      <td>False</td>\n",
       "    </tr>\n",
       "    <tr>\n",
       "      <th>7</th>\n",
       "      <td>878601</td>\n",
       "      <td>2024-04-15</td>\n",
       "      <td>1713201299344000</td>\n",
       "      <td>1713208499344000</td>\n",
       "      <td>South Africa</td>\n",
       "      <td>Android</td>\n",
       "      <td>mobile</td>\n",
       "      <td>Samsung</td>\n",
       "      <td>Galaxy A13</td>\n",
       "      <td>False</td>\n",
       "      <td>...</td>\n",
       "      <td>0.0</td>\n",
       "      <td>0.0</td>\n",
       "      <td>0.0</td>\n",
       "      <td>0.0</td>\n",
       "      <td>0.0</td>\n",
       "      <td>0</td>\n",
       "      <td>1</td>\n",
       "      <td>15</td>\n",
       "      <td>False</td>\n",
       "      <td>False</td>\n",
       "    </tr>\n",
       "    <tr>\n",
       "      <th>10</th>\n",
       "      <td>878604</td>\n",
       "      <td>2024-02-02</td>\n",
       "      <td>1706897925481000</td>\n",
       "      <td>1706901525481000</td>\n",
       "      <td>France</td>\n",
       "      <td>Android</td>\n",
       "      <td>mobile</td>\n",
       "      <td>Huawei</td>\n",
       "      <td>P20 Lite</td>\n",
       "      <td>False</td>\n",
       "      <td>...</td>\n",
       "      <td>0.0</td>\n",
       "      <td>0.0</td>\n",
       "      <td>0.0</td>\n",
       "      <td>0.0</td>\n",
       "      <td>0.0</td>\n",
       "      <td>1</td>\n",
       "      <td>2</td>\n",
       "      <td>14</td>\n",
       "      <td>False</td>\n",
       "      <td>False</td>\n",
       "    </tr>\n",
       "  </tbody>\n",
       "</table>\n",
       "<p>5 rows × 91 columns</p>\n",
       "</div>"
      ],
      "text/plain": [
       "        ID first_open_date  first_open_timestamp  local_first_open_timestamp  \\\n",
       "1   878595      2024-01-26      1706254855890000            1706233255890000   \n",
       "2   878596      2024-02-13      1707778260263000            1707781860263000   \n",
       "5   878599      2024-03-18      1710765344672000            1710765344672000   \n",
       "7   878601      2024-04-15      1713201299344000            1713208499344000   \n",
       "10  878604      2024-02-02      1706897925481000            1706901525481000   \n",
       "\n",
       "           country platform device_category device_brand device_model  \\\n",
       "1           Mexico  Android          mobile      OnePlus  Nord N20 SE   \n",
       "2           France  Android          mobile     Motorola     moto g13   \n",
       "5   United Kingdom  Android          mobile      Samsung   Galaxy A71   \n",
       "7     South Africa  Android          mobile      Samsung   Galaxy A13   \n",
       "10          France  Android          mobile       Huawei     P20 Lite   \n",
       "\n",
       "    has_ios_att_permission  ... IAPRevenueD11  IAPRevenueD12  IAPRevenueD13  \\\n",
       "1                    False  ...           0.0            0.0            0.0   \n",
       "2                    False  ...           0.0            0.0            0.0   \n",
       "5                    False  ...           0.0            0.0            0.0   \n",
       "7                    False  ...           0.0            0.0            0.0   \n",
       "10                   False  ...           0.0            0.0            0.0   \n",
       "\n",
       "    IAPRevenueD14  IAPRevenueD15  Last Active Day  True_count  False_count  \\\n",
       "1             0.0            0.0                0           1           15   \n",
       "2             0.0            0.0                0           1           15   \n",
       "5             0.0            0.0                0           1           15   \n",
       "7             0.0            0.0                0           1           15   \n",
       "10            0.0            0.0                1           2           14   \n",
       "\n",
       "    Active after 8  Active in first 8 days  \n",
       "1            False                   False  \n",
       "2            False                   False  \n",
       "5            False                   False  \n",
       "7            False                   False  \n",
       "10           False                   False  \n",
       "\n",
       "[5 rows x 91 columns]"
      ]
     },
     "execution_count": 73,
     "metadata": {},
     "output_type": "execute_result"
    }
   ],
   "source": [
    "excluded_test_df.head()"
   ]
  },
  {
   "cell_type": "code",
   "execution_count": 74,
   "metadata": {},
   "outputs": [
    {
     "data": {
      "text/html": [
       "<div>\n",
       "<style scoped>\n",
       "    .dataframe tbody tr th:only-of-type {\n",
       "        vertical-align: middle;\n",
       "    }\n",
       "\n",
       "    .dataframe tbody tr th {\n",
       "        vertical-align: top;\n",
       "    }\n",
       "\n",
       "    .dataframe thead th {\n",
       "        text-align: right;\n",
       "    }\n",
       "</style>\n",
       "<table border=\"1\" class=\"dataframe\">\n",
       "  <thead>\n",
       "    <tr style=\"text-align: right;\">\n",
       "      <th></th>\n",
       "      <th>ID</th>\n",
       "      <th>first_open_date</th>\n",
       "      <th>first_open_timestamp</th>\n",
       "      <th>local_first_open_timestamp</th>\n",
       "      <th>country</th>\n",
       "      <th>platform</th>\n",
       "      <th>device_category</th>\n",
       "      <th>device_brand</th>\n",
       "      <th>device_model</th>\n",
       "      <th>has_ios_att_permission</th>\n",
       "      <th>...</th>\n",
       "      <th>IAPRevenueD12</th>\n",
       "      <th>IAPRevenueD13</th>\n",
       "      <th>IAPRevenueD14</th>\n",
       "      <th>IAPRevenueD15</th>\n",
       "      <th>TARGET</th>\n",
       "      <th>Last Active Day</th>\n",
       "      <th>True_count</th>\n",
       "      <th>False_count</th>\n",
       "      <th>Active after 8</th>\n",
       "      <th>Active in first 8 days</th>\n",
       "    </tr>\n",
       "  </thead>\n",
       "  <tbody>\n",
       "    <tr>\n",
       "      <th>0</th>\n",
       "      <td>0</td>\n",
       "      <td>2024-03-02</td>\n",
       "      <td>1709355895042000</td>\n",
       "      <td>1709334295042000</td>\n",
       "      <td>Mexico</td>\n",
       "      <td>Android</td>\n",
       "      <td>mobile</td>\n",
       "      <td>Xiaomi</td>\n",
       "      <td>Redmi A2</td>\n",
       "      <td>False</td>\n",
       "      <td>...</td>\n",
       "      <td>0.0</td>\n",
       "      <td>0.0</td>\n",
       "      <td>0.0</td>\n",
       "      <td>0.0</td>\n",
       "      <td>0.000000</td>\n",
       "      <td>12</td>\n",
       "      <td>2</td>\n",
       "      <td>14</td>\n",
       "      <td>True</td>\n",
       "      <td>False</td>\n",
       "    </tr>\n",
       "    <tr>\n",
       "      <th>1</th>\n",
       "      <td>1</td>\n",
       "      <td>2024-03-19</td>\n",
       "      <td>1710824539731000</td>\n",
       "      <td>1710806539731000</td>\n",
       "      <td>Peru</td>\n",
       "      <td>Android</td>\n",
       "      <td>mobile</td>\n",
       "      <td>Samsung</td>\n",
       "      <td>Galaxy A13</td>\n",
       "      <td>False</td>\n",
       "      <td>...</td>\n",
       "      <td>0.0</td>\n",
       "      <td>0.0</td>\n",
       "      <td>0.0</td>\n",
       "      <td>0.0</td>\n",
       "      <td>0.018892</td>\n",
       "      <td>9</td>\n",
       "      <td>4</td>\n",
       "      <td>12</td>\n",
       "      <td>True</td>\n",
       "      <td>False</td>\n",
       "    </tr>\n",
       "    <tr>\n",
       "      <th>12</th>\n",
       "      <td>12</td>\n",
       "      <td>2024-05-04</td>\n",
       "      <td>1714783839460000</td>\n",
       "      <td>1714791039460000</td>\n",
       "      <td>Germany</td>\n",
       "      <td>iOS</td>\n",
       "      <td>mobile</td>\n",
       "      <td>Apple</td>\n",
       "      <td>iPhone 14 Pro Max</td>\n",
       "      <td>False</td>\n",
       "      <td>...</td>\n",
       "      <td>0.0</td>\n",
       "      <td>0.0</td>\n",
       "      <td>0.0</td>\n",
       "      <td>0.0</td>\n",
       "      <td>1.265949</td>\n",
       "      <td>15</td>\n",
       "      <td>7</td>\n",
       "      <td>9</td>\n",
       "      <td>True</td>\n",
       "      <td>False</td>\n",
       "    </tr>\n",
       "    <tr>\n",
       "      <th>15</th>\n",
       "      <td>15</td>\n",
       "      <td>2024-02-05</td>\n",
       "      <td>1707146971878000</td>\n",
       "      <td>1707166771878000</td>\n",
       "      <td>India</td>\n",
       "      <td>Android</td>\n",
       "      <td>mobile</td>\n",
       "      <td>Xiaomi</td>\n",
       "      <td>Redmi 12 5G</td>\n",
       "      <td>False</td>\n",
       "      <td>...</td>\n",
       "      <td>0.0</td>\n",
       "      <td>0.0</td>\n",
       "      <td>0.0</td>\n",
       "      <td>0.0</td>\n",
       "      <td>0.044076</td>\n",
       "      <td>8</td>\n",
       "      <td>2</td>\n",
       "      <td>14</td>\n",
       "      <td>True</td>\n",
       "      <td>False</td>\n",
       "    </tr>\n",
       "    <tr>\n",
       "      <th>19</th>\n",
       "      <td>19</td>\n",
       "      <td>2024-01-06</td>\n",
       "      <td>1704551875588000</td>\n",
       "      <td>1704541075588000</td>\n",
       "      <td>Brazil</td>\n",
       "      <td>Android</td>\n",
       "      <td>mobile</td>\n",
       "      <td>Motorola</td>\n",
       "      <td>Moto G84 5G</td>\n",
       "      <td>False</td>\n",
       "      <td>...</td>\n",
       "      <td>0.0</td>\n",
       "      <td>0.0</td>\n",
       "      <td>0.0</td>\n",
       "      <td>0.0</td>\n",
       "      <td>0.046317</td>\n",
       "      <td>9</td>\n",
       "      <td>4</td>\n",
       "      <td>12</td>\n",
       "      <td>True</td>\n",
       "      <td>False</td>\n",
       "    </tr>\n",
       "  </tbody>\n",
       "</table>\n",
       "<p>5 rows × 92 columns</p>\n",
       "</div>"
      ],
      "text/plain": [
       "    ID first_open_date  first_open_timestamp  local_first_open_timestamp  \\\n",
       "0    0      2024-03-02      1709355895042000            1709334295042000   \n",
       "1    1      2024-03-19      1710824539731000            1710806539731000   \n",
       "12  12      2024-05-04      1714783839460000            1714791039460000   \n",
       "15  15      2024-02-05      1707146971878000            1707166771878000   \n",
       "19  19      2024-01-06      1704551875588000            1704541075588000   \n",
       "\n",
       "    country platform device_category device_brand       device_model  \\\n",
       "0    Mexico  Android          mobile       Xiaomi           Redmi A2   \n",
       "1      Peru  Android          mobile      Samsung         Galaxy A13   \n",
       "12  Germany      iOS          mobile        Apple  iPhone 14 Pro Max   \n",
       "15    India  Android          mobile       Xiaomi        Redmi 12 5G   \n",
       "19   Brazil  Android          mobile     Motorola        Moto G84 5G   \n",
       "\n",
       "    has_ios_att_permission  ... IAPRevenueD12  IAPRevenueD13  IAPRevenueD14  \\\n",
       "0                    False  ...           0.0            0.0            0.0   \n",
       "1                    False  ...           0.0            0.0            0.0   \n",
       "12                   False  ...           0.0            0.0            0.0   \n",
       "15                   False  ...           0.0            0.0            0.0   \n",
       "19                   False  ...           0.0            0.0            0.0   \n",
       "\n",
       "    IAPRevenueD15    TARGET  Last Active Day  True_count  False_count  \\\n",
       "0             0.0  0.000000               12           2           14   \n",
       "1             0.0  0.018892                9           4           12   \n",
       "12            0.0  1.265949               15           7            9   \n",
       "15            0.0  0.044076                8           2           14   \n",
       "19            0.0  0.046317                9           4           12   \n",
       "\n",
       "    Active after 8  Active in first 8 days  \n",
       "0             True                   False  \n",
       "1             True                   False  \n",
       "12            True                   False  \n",
       "15            True                   False  \n",
       "19            True                   False  \n",
       "\n",
       "[5 rows x 92 columns]"
      ]
     },
     "execution_count": 74,
     "metadata": {},
     "output_type": "execute_result"
    }
   ],
   "source": [
    "filtered_df.head()"
   ]
  },
  {
   "cell_type": "code",
   "execution_count": 75,
   "metadata": {},
   "outputs": [
    {
     "data": {
      "text/html": [
       "<div>\n",
       "<style scoped>\n",
       "    .dataframe tbody tr th:only-of-type {\n",
       "        vertical-align: middle;\n",
       "    }\n",
       "\n",
       "    .dataframe tbody tr th {\n",
       "        vertical-align: top;\n",
       "    }\n",
       "\n",
       "    .dataframe thead th {\n",
       "        text-align: right;\n",
       "    }\n",
       "</style>\n",
       "<table border=\"1\" class=\"dataframe\">\n",
       "  <thead>\n",
       "    <tr style=\"text-align: right;\">\n",
       "      <th></th>\n",
       "      <th>ID</th>\n",
       "      <th>first_open_date</th>\n",
       "      <th>first_open_timestamp</th>\n",
       "      <th>local_first_open_timestamp</th>\n",
       "      <th>country</th>\n",
       "      <th>platform</th>\n",
       "      <th>device_category</th>\n",
       "      <th>device_brand</th>\n",
       "      <th>device_model</th>\n",
       "      <th>has_ios_att_permission</th>\n",
       "      <th>...</th>\n",
       "      <th>IAPRevenueD11</th>\n",
       "      <th>IAPRevenueD12</th>\n",
       "      <th>IAPRevenueD13</th>\n",
       "      <th>IAPRevenueD14</th>\n",
       "      <th>IAPRevenueD15</th>\n",
       "      <th>Last Active Day</th>\n",
       "      <th>True_count</th>\n",
       "      <th>False_count</th>\n",
       "      <th>Active after 8</th>\n",
       "      <th>Active in first 8 days</th>\n",
       "    </tr>\n",
       "  </thead>\n",
       "  <tbody>\n",
       "    <tr>\n",
       "      <th>0</th>\n",
       "      <td>878594</td>\n",
       "      <td>2024-05-12</td>\n",
       "      <td>1715478163668000</td>\n",
       "      <td>1715467363668000</td>\n",
       "      <td>Argentina</td>\n",
       "      <td>Android</td>\n",
       "      <td>mobile</td>\n",
       "      <td>Motorola</td>\n",
       "      <td>Moto G32</td>\n",
       "      <td>False</td>\n",
       "      <td>...</td>\n",
       "      <td>0.0</td>\n",
       "      <td>0.0</td>\n",
       "      <td>0.0</td>\n",
       "      <td>0.0</td>\n",
       "      <td>0.0</td>\n",
       "      <td>4</td>\n",
       "      <td>5</td>\n",
       "      <td>11</td>\n",
       "      <td>False</td>\n",
       "      <td>True</td>\n",
       "    </tr>\n",
       "    <tr>\n",
       "      <th>3</th>\n",
       "      <td>878597</td>\n",
       "      <td>2024-02-21</td>\n",
       "      <td>1708530744695000</td>\n",
       "      <td>1708519944695000</td>\n",
       "      <td>Brazil</td>\n",
       "      <td>Android</td>\n",
       "      <td>mobile</td>\n",
       "      <td>Samsung</td>\n",
       "      <td>Galaxy A03</td>\n",
       "      <td>False</td>\n",
       "      <td>...</td>\n",
       "      <td>0.0</td>\n",
       "      <td>0.0</td>\n",
       "      <td>0.0</td>\n",
       "      <td>0.0</td>\n",
       "      <td>0.0</td>\n",
       "      <td>9</td>\n",
       "      <td>6</td>\n",
       "      <td>10</td>\n",
       "      <td>True</td>\n",
       "      <td>False</td>\n",
       "    </tr>\n",
       "    <tr>\n",
       "      <th>4</th>\n",
       "      <td>878598</td>\n",
       "      <td>2024-05-03</td>\n",
       "      <td>1714706093405000</td>\n",
       "      <td>1714688093405000</td>\n",
       "      <td>Peru</td>\n",
       "      <td>Android</td>\n",
       "      <td>mobile</td>\n",
       "      <td>Xiaomi</td>\n",
       "      <td>Redmi 13C</td>\n",
       "      <td>False</td>\n",
       "      <td>...</td>\n",
       "      <td>0.0</td>\n",
       "      <td>0.0</td>\n",
       "      <td>0.0</td>\n",
       "      <td>0.0</td>\n",
       "      <td>0.0</td>\n",
       "      <td>5</td>\n",
       "      <td>5</td>\n",
       "      <td>11</td>\n",
       "      <td>False</td>\n",
       "      <td>True</td>\n",
       "    </tr>\n",
       "    <tr>\n",
       "      <th>6</th>\n",
       "      <td>878600</td>\n",
       "      <td>2024-03-07</td>\n",
       "      <td>1709836239479000</td>\n",
       "      <td>1709818239479000</td>\n",
       "      <td>Canada</td>\n",
       "      <td>Android</td>\n",
       "      <td>mobile</td>\n",
       "      <td>Samsung</td>\n",
       "      <td>Galaxy A32 5G</td>\n",
       "      <td>False</td>\n",
       "      <td>...</td>\n",
       "      <td>0.0</td>\n",
       "      <td>0.0</td>\n",
       "      <td>0.0</td>\n",
       "      <td>0.0</td>\n",
       "      <td>0.0</td>\n",
       "      <td>9</td>\n",
       "      <td>4</td>\n",
       "      <td>12</td>\n",
       "      <td>True</td>\n",
       "      <td>False</td>\n",
       "    </tr>\n",
       "    <tr>\n",
       "      <th>8</th>\n",
       "      <td>878602</td>\n",
       "      <td>2024-04-01</td>\n",
       "      <td>1711989085362000</td>\n",
       "      <td>1711978285362000</td>\n",
       "      <td>Argentina</td>\n",
       "      <td>Android</td>\n",
       "      <td>mobile</td>\n",
       "      <td>Samsung</td>\n",
       "      <td>Galaxy A30s</td>\n",
       "      <td>False</td>\n",
       "      <td>...</td>\n",
       "      <td>0.0</td>\n",
       "      <td>0.0</td>\n",
       "      <td>0.0</td>\n",
       "      <td>0.0</td>\n",
       "      <td>0.0</td>\n",
       "      <td>13</td>\n",
       "      <td>8</td>\n",
       "      <td>8</td>\n",
       "      <td>True</td>\n",
       "      <td>True</td>\n",
       "    </tr>\n",
       "  </tbody>\n",
       "</table>\n",
       "<p>5 rows × 91 columns</p>\n",
       "</div>"
      ],
      "text/plain": [
       "       ID first_open_date  first_open_timestamp  local_first_open_timestamp  \\\n",
       "0  878594      2024-05-12      1715478163668000            1715467363668000   \n",
       "3  878597      2024-02-21      1708530744695000            1708519944695000   \n",
       "4  878598      2024-05-03      1714706093405000            1714688093405000   \n",
       "6  878600      2024-03-07      1709836239479000            1709818239479000   \n",
       "8  878602      2024-04-01      1711989085362000            1711978285362000   \n",
       "\n",
       "     country platform device_category device_brand   device_model  \\\n",
       "0  Argentina  Android          mobile     Motorola       Moto G32   \n",
       "3     Brazil  Android          mobile      Samsung     Galaxy A03   \n",
       "4       Peru  Android          mobile       Xiaomi      Redmi 13C   \n",
       "6     Canada  Android          mobile      Samsung  Galaxy A32 5G   \n",
       "8  Argentina  Android          mobile      Samsung    Galaxy A30s   \n",
       "\n",
       "   has_ios_att_permission  ... IAPRevenueD11  IAPRevenueD12  IAPRevenueD13  \\\n",
       "0                   False  ...           0.0            0.0            0.0   \n",
       "3                   False  ...           0.0            0.0            0.0   \n",
       "4                   False  ...           0.0            0.0            0.0   \n",
       "6                   False  ...           0.0            0.0            0.0   \n",
       "8                   False  ...           0.0            0.0            0.0   \n",
       "\n",
       "   IAPRevenueD14  IAPRevenueD15  Last Active Day  True_count  False_count  \\\n",
       "0            0.0            0.0                4           5           11   \n",
       "3            0.0            0.0                9           6           10   \n",
       "4            0.0            0.0                5           5           11   \n",
       "6            0.0            0.0                9           4           12   \n",
       "8            0.0            0.0               13           8            8   \n",
       "\n",
       "   Active after 8  Active in first 8 days  \n",
       "0           False                    True  \n",
       "3            True                   False  \n",
       "4           False                    True  \n",
       "6            True                   False  \n",
       "8            True                    True  \n",
       "\n",
       "[5 rows x 91 columns]"
      ]
     },
     "execution_count": 75,
     "metadata": {},
     "output_type": "execute_result"
    }
   ],
   "source": [
    "filtered_test_df.head()"
   ]
  },
  {
   "cell_type": "code",
   "execution_count": 76,
   "metadata": {},
   "outputs": [
    {
     "name": "stderr",
     "output_type": "stream",
     "text": [
      "C:\\Users\\sueda\\AppData\\Local\\Temp\\ipykernel_11416\\2501875321.py:6: SettingWithCopyWarning: \n",
      "A value is trying to be set on a copy of a slice from a DataFrame.\n",
      "Try using .loc[row_indexer,col_indexer] = value instead\n",
      "\n",
      "See the caveats in the documentation: https://pandas.pydata.org/pandas-docs/stable/user_guide/indexing.html#returning-a-view-versus-a-copy\n",
      "  excluded_df['15_day_revenue'] = excluded_df.apply(calculate_15_day_revenue, axis=1)\n"
     ]
    }
   ],
   "source": [
    "def calculate_15_day_revenue(row):\n",
    "    ad_revenue = sum(row[f\"AdRevenueD{i}\"] for i in range(0, 16) if row[f\"AdRevenueD{i}\"] is not None)\n",
    "    iap_revenue = sum(row[f\"IAPRevenueD{i}\"] for i in range(0, 16) if row[f\"IAPRevenueD{i}\"] is not None)\n",
    "    return ad_revenue + iap_revenue\n",
    "\n",
    "excluded_df['15_day_revenue'] = excluded_df.apply(calculate_15_day_revenue, axis=1)"
   ]
  },
  {
   "cell_type": "code",
   "execution_count": 77,
   "metadata": {},
   "outputs": [
    {
     "name": "stderr",
     "output_type": "stream",
     "text": [
      "C:\\Users\\sueda\\AppData\\Local\\Temp\\ipykernel_11416\\3494311871.py:1: SettingWithCopyWarning: \n",
      "A value is trying to be set on a copy of a slice from a DataFrame.\n",
      "Try using .loc[row_indexer,col_indexer] = value instead\n",
      "\n",
      "See the caveats in the documentation: https://pandas.pydata.org/pandas-docs/stable/user_guide/indexing.html#returning-a-view-versus-a-copy\n",
      "  excluded_test_df['15_day_revenue'] = excluded_test_df.apply(calculate_15_day_revenue, axis=1)\n"
     ]
    }
   ],
   "source": [
    "excluded_test_df['15_day_revenue'] = excluded_test_df.apply(calculate_15_day_revenue, axis=1)"
   ]
  },
  {
   "cell_type": "code",
   "execution_count": 78,
   "metadata": {},
   "outputs": [
    {
     "data": {
      "text/plain": [
       "2    0.00000\n",
       "3    0.04665\n",
       "4    0.01468\n",
       "5    0.00000\n",
       "6    0.00000\n",
       "Name: 15_day_revenue, dtype: float64"
      ]
     },
     "execution_count": 78,
     "metadata": {},
     "output_type": "execute_result"
    }
   ],
   "source": [
    "excluded_df[\"15_day_revenue\"].head()"
   ]
  },
  {
   "cell_type": "code",
   "execution_count": 79,
   "metadata": {},
   "outputs": [
    {
     "data": {
      "text/plain": [
       "1     0.000000\n",
       "2     0.000000\n",
       "5     0.106975\n",
       "7     0.000000\n",
       "10    0.000000\n",
       "Name: 15_day_revenue, dtype: float64"
      ]
     },
     "execution_count": 79,
     "metadata": {},
     "output_type": "execute_result"
    }
   ],
   "source": [
    "excluded_test_df[\"15_day_revenue\"].head()"
   ]
  },
  {
   "cell_type": "code",
   "execution_count": 80,
   "metadata": {},
   "outputs": [
    {
     "name": "stderr",
     "output_type": "stream",
     "text": [
      "C:\\Users\\sueda\\AppData\\Local\\Temp\\ipykernel_11416\\3409789487.py:1: SettingWithCopyWarning: \n",
      "A value is trying to be set on a copy of a slice from a DataFrame\n",
      "\n",
      "See the caveats in the documentation: https://pandas.pydata.org/pandas-docs/stable/user_guide/indexing.html#returning-a-view-versus-a-copy\n",
      "  filtered_df.drop(columns=['Last Active Day',\n"
     ]
    }
   ],
   "source": [
    "filtered_df.drop(columns=['Last Active Day',\n",
    "       'True_count', 'False_count', 'Active after 8',\n",
    "       'Active in first 8 days'], inplace=True)"
   ]
  },
  {
   "cell_type": "code",
   "execution_count": 81,
   "metadata": {},
   "outputs": [
    {
     "name": "stderr",
     "output_type": "stream",
     "text": [
      "C:\\Users\\sueda\\AppData\\Local\\Temp\\ipykernel_11416\\739109439.py:1: SettingWithCopyWarning: \n",
      "A value is trying to be set on a copy of a slice from a DataFrame\n",
      "\n",
      "See the caveats in the documentation: https://pandas.pydata.org/pandas-docs/stable/user_guide/indexing.html#returning-a-view-versus-a-copy\n",
      "  filtered_test_df.drop(columns=['Last Active Day',\n"
     ]
    }
   ],
   "source": [
    "filtered_test_df.drop(columns=['Last Active Day',\n",
    "       'True_count', 'False_count', 'Active after 8',\n",
    "       'Active in first 8 days'], inplace=True)"
   ]
  },
  {
   "cell_type": "code",
   "execution_count": 82,
   "metadata": {},
   "outputs": [
    {
     "data": {
      "text/plain": [
       "Index(['ID', 'first_open_date', 'first_open_timestamp',\n",
       "       'local_first_open_timestamp', 'country', 'platform', 'device_category',\n",
       "       'device_brand', 'device_model', 'has_ios_att_permission', 'ad_network',\n",
       "       'first_prediction', 'RetentionD0', 'RetentionD1', 'RetentionD2',\n",
       "       'RetentionD3', 'RetentionD4', 'RetentionD5', 'RetentionD6',\n",
       "       'RetentionD7', 'RetentionD8', 'RetentionD9', 'RetentionD10',\n",
       "       'RetentionD11', 'RetentionD12', 'RetentionD13', 'RetentionD14',\n",
       "       'RetentionD15', 'LevelAdvancedCountD0', 'LevelAdvancedCountD1',\n",
       "       'LevelAdvancedCountD2', 'LevelAdvancedCountD3', 'LevelAdvancedCountD4',\n",
       "       'LevelAdvancedCountD5', 'LevelAdvancedCountD6', 'LevelAdvancedCountD7',\n",
       "       'LevelAdvancedCountD8', 'LevelAdvancedCountD9', 'LevelAdvancedCountD10',\n",
       "       'LevelAdvancedCountD11', 'LevelAdvancedCountD12',\n",
       "       'LevelAdvancedCountD13', 'LevelAdvancedCountD14',\n",
       "       'LevelAdvancedCountD15', 'Level_1_Duration', 'Level_2_Duration',\n",
       "       'Level_3_Duration', 'Level_4_Duration', 'Level_5_Duration',\n",
       "       'Level_6_Duration', 'Level_7_Duration', 'Level_8_Duration',\n",
       "       'Level_9_Duration', 'Level_10_Duration', 'AdRevenueD0', 'AdRevenueD1',\n",
       "       'AdRevenueD2', 'AdRevenueD3', 'AdRevenueD4', 'AdRevenueD5',\n",
       "       'AdRevenueD6', 'AdRevenueD7', 'AdRevenueD8', 'AdRevenueD9',\n",
       "       'AdRevenueD10', 'AdRevenueD11', 'AdRevenueD12', 'AdRevenueD13',\n",
       "       'AdRevenueD14', 'AdRevenueD15', 'IAPRevenueD0', 'IAPRevenueD1',\n",
       "       'IAPRevenueD2', 'IAPRevenueD3', 'IAPRevenueD4', 'IAPRevenueD5',\n",
       "       'IAPRevenueD6', 'IAPRevenueD7', 'IAPRevenueD8', 'IAPRevenueD9',\n",
       "       'IAPRevenueD10', 'IAPRevenueD11', 'IAPRevenueD12', 'IAPRevenueD13',\n",
       "       'IAPRevenueD14', 'IAPRevenueD15', 'TARGET'],\n",
       "      dtype='object')"
      ]
     },
     "execution_count": 82,
     "metadata": {},
     "output_type": "execute_result"
    }
   ],
   "source": [
    "filtered_df.columns"
   ]
  },
  {
   "cell_type": "code",
   "execution_count": 83,
   "metadata": {},
   "outputs": [
    {
     "data": {
      "text/plain": [
       "ID                                 0\n",
       "first_open_date                    0\n",
       "first_open_timestamp               0\n",
       "local_first_open_timestamp         0\n",
       "country                           82\n",
       "platform                           0\n",
       "device_category                    0\n",
       "device_brand                    5840\n",
       "device_model                       0\n",
       "has_ios_att_permission             0\n",
       "ad_network                    310470\n",
       "dtype: int64"
      ]
     },
     "execution_count": 83,
     "metadata": {},
     "output_type": "execute_result"
    }
   ],
   "source": [
    "users.isna().sum()"
   ]
  },
  {
   "cell_type": "code",
   "execution_count": 84,
   "metadata": {},
   "outputs": [
    {
     "data": {
      "text/plain": [
       "ID                      0\n",
       "first_prediction    25735\n",
       "RetentionD0             0\n",
       "RetentionD1             0\n",
       "RetentionD2             0\n",
       "                    ...  \n",
       "IAPRevenueD11           0\n",
       "IAPRevenueD12           0\n",
       "IAPRevenueD13           0\n",
       "IAPRevenueD14           0\n",
       "IAPRevenueD15           0\n",
       "Length: 76, dtype: int64"
      ]
     },
     "execution_count": 84,
     "metadata": {},
     "output_type": "execute_result"
    }
   ],
   "source": [
    "user_features.isna().sum()"
   ]
  },
  {
   "cell_type": "code",
   "execution_count": 42,
   "metadata": {},
   "outputs": [
    {
     "data": {
      "text/plain": [
       "4876"
      ]
     },
     "execution_count": 42,
     "metadata": {},
     "output_type": "execute_result"
    }
   ],
   "source": [
    "filtered_df[\"first_prediction\"].isna().sum()"
   ]
  },
  {
   "cell_type": "code",
   "execution_count": 85,
   "metadata": {},
   "outputs": [
    {
     "data": {
      "text/plain": [
       "ID                             0\n",
       "first_open_date                0\n",
       "first_open_timestamp           0\n",
       "local_first_open_timestamp     0\n",
       "country                       57\n",
       "                              ..\n",
       "IAPRevenueD12                  0\n",
       "IAPRevenueD13                  0\n",
       "IAPRevenueD14                  0\n",
       "IAPRevenueD15                  0\n",
       "TARGET                         0\n",
       "Length: 87, dtype: int64"
      ]
     },
     "execution_count": 85,
     "metadata": {},
     "output_type": "execute_result"
    }
   ],
   "source": [
    "filtered_df.isna().sum()"
   ]
  },
  {
   "cell_type": "code",
   "execution_count": 86,
   "metadata": {},
   "outputs": [
    {
     "data": {
      "text/plain": [
       "57"
      ]
     },
     "execution_count": 86,
     "metadata": {},
     "output_type": "execute_result"
    }
   ],
   "source": [
    "filtered_df[\"country\"].isna().sum()"
   ]
  },
  {
   "cell_type": "code",
   "execution_count": 87,
   "metadata": {},
   "outputs": [
    {
     "data": {
      "text/plain": [
       "1527"
      ]
     },
     "execution_count": 87,
     "metadata": {},
     "output_type": "execute_result"
    }
   ],
   "source": [
    "filtered_df[\"device_brand\"].isna().sum()"
   ]
  },
  {
   "cell_type": "code",
   "execution_count": 88,
   "metadata": {},
   "outputs": [
    {
     "data": {
      "text/plain": [
       "117625"
      ]
     },
     "execution_count": 88,
     "metadata": {},
     "output_type": "execute_result"
    }
   ],
   "source": [
    "filtered_df[\"ad_network\"].isna().sum()"
   ]
  },
  {
   "cell_type": "code",
   "execution_count": 89,
   "metadata": {},
   "outputs": [
    {
     "name": "stderr",
     "output_type": "stream",
     "text": [
      "C:\\Users\\sueda\\AppData\\Local\\Temp\\ipykernel_11416\\3164673121.py:1: FutureWarning: A value is trying to be set on a copy of a DataFrame or Series through chained assignment using an inplace method.\n",
      "The behavior will change in pandas 3.0. This inplace method will never work because the intermediate object on which we are setting values always behaves as a copy.\n",
      "\n",
      "For example, when doing 'df[col].method(value, inplace=True)', try using 'df.method({col: value}, inplace=True)' or df[col] = df[col].method(value) instead, to perform the operation inplace on the original object.\n",
      "\n",
      "\n",
      "  filtered_df[\"ad_network\"].fillna(\"organic_user\", inplace=True)\n",
      "C:\\Users\\sueda\\AppData\\Local\\Temp\\ipykernel_11416\\3164673121.py:1: SettingWithCopyWarning: \n",
      "A value is trying to be set on a copy of a slice from a DataFrame\n",
      "\n",
      "See the caveats in the documentation: https://pandas.pydata.org/pandas-docs/stable/user_guide/indexing.html#returning-a-view-versus-a-copy\n",
      "  filtered_df[\"ad_network\"].fillna(\"organic_user\", inplace=True)\n"
     ]
    }
   ],
   "source": [
    "filtered_df[\"ad_network\"].fillna(\"organic_user\", inplace=True)"
   ]
  },
  {
   "cell_type": "code",
   "execution_count": 104,
   "metadata": {},
   "outputs": [
    {
     "data": {
      "text/plain": [
       "0    United States\n",
       "Name: country, dtype: object"
      ]
     },
     "execution_count": 104,
     "metadata": {},
     "output_type": "execute_result"
    }
   ],
   "source": [
    "df[\"country\"].mode()"
   ]
  },
  {
   "cell_type": "code",
   "execution_count": 105,
   "metadata": {},
   "outputs": [
    {
     "name": "stderr",
     "output_type": "stream",
     "text": [
      "C:\\Users\\sueda\\AppData\\Local\\Temp\\ipykernel_11416\\2705615632.py:1: SettingWithCopyWarning: \n",
      "A value is trying to be set on a copy of a slice from a DataFrame\n",
      "\n",
      "See the caveats in the documentation: https://pandas.pydata.org/pandas-docs/stable/user_guide/indexing.html#returning-a-view-versus-a-copy\n",
      "  filtered_df[\"country\"].fillna(\"United States\", inplace=True)\n"
     ]
    }
   ],
   "source": [
    "filtered_df[\"country\"].fillna(\"United States\", inplace=True)"
   ]
  },
  {
   "cell_type": "code",
   "execution_count": 106,
   "metadata": {},
   "outputs": [
    {
     "data": {
      "text/plain": [
       "0    Apple\n",
       "Name: device_brand, dtype: object"
      ]
     },
     "execution_count": 106,
     "metadata": {},
     "output_type": "execute_result"
    }
   ],
   "source": [
    "df[\"device_brand\"].mode()"
   ]
  },
  {
   "cell_type": "code",
   "execution_count": 107,
   "metadata": {},
   "outputs": [
    {
     "name": "stderr",
     "output_type": "stream",
     "text": [
      "C:\\Users\\sueda\\AppData\\Local\\Temp\\ipykernel_11416\\782682860.py:1: SettingWithCopyWarning: \n",
      "A value is trying to be set on a copy of a slice from a DataFrame\n",
      "\n",
      "See the caveats in the documentation: https://pandas.pydata.org/pandas-docs/stable/user_guide/indexing.html#returning-a-view-versus-a-copy\n",
      "  filtered_df[\"device_brand\"].fillna(\"Apple\", inplace=True)\n"
     ]
    }
   ],
   "source": [
    "filtered_df[\"device_brand\"].fillna(\"Apple\", inplace=True)"
   ]
  },
  {
   "cell_type": "code",
   "execution_count": 108,
   "metadata": {},
   "outputs": [
    {
     "data": {
      "text/plain": [
       "37.612360277089614"
      ]
     },
     "execution_count": 108,
     "metadata": {},
     "output_type": "execute_result"
    }
   ],
   "source": [
    "df[\"first_prediction\"].mean()"
   ]
  },
  {
   "cell_type": "code",
   "execution_count": 110,
   "metadata": {},
   "outputs": [
    {
     "name": "stderr",
     "output_type": "stream",
     "text": [
      "C:\\Users\\sueda\\AppData\\Local\\Temp\\ipykernel_11416\\2682018155.py:1: FutureWarning: A value is trying to be set on a copy of a DataFrame or Series through chained assignment using an inplace method.\n",
      "The behavior will change in pandas 3.0. This inplace method will never work because the intermediate object on which we are setting values always behaves as a copy.\n",
      "\n",
      "For example, when doing 'df[col].method(value, inplace=True)', try using 'df.method({col: value}, inplace=True)' or df[col] = df[col].method(value) instead, to perform the operation inplace on the original object.\n",
      "\n",
      "\n",
      "  filtered_df[\"first_prediction\"].fillna(37.612360277089614, inplace=True)\n",
      "C:\\Users\\sueda\\AppData\\Local\\Temp\\ipykernel_11416\\2682018155.py:1: SettingWithCopyWarning: \n",
      "A value is trying to be set on a copy of a slice from a DataFrame\n",
      "\n",
      "See the caveats in the documentation: https://pandas.pydata.org/pandas-docs/stable/user_guide/indexing.html#returning-a-view-versus-a-copy\n",
      "  filtered_df[\"first_prediction\"].fillna(37.612360277089614, inplace=True)\n"
     ]
    }
   ],
   "source": [
    "filtered_df[\"first_prediction\"].fillna(37.612360277089614, inplace=True)"
   ]
  },
  {
   "cell_type": "code",
   "execution_count": 113,
   "metadata": {},
   "outputs": [
    {
     "data": {
      "text/plain": [
       "country\n",
       "Brazil                    41892\n",
       "Mexico                    40400\n",
       "United States             36551\n",
       "Argentina                 23063\n",
       "Colombia                  15688\n",
       "                          ...  \n",
       "Papua New Guinea              1\n",
       "Sint Maarten                  1\n",
       "Kiribati                      1\n",
       "Turks & Caicos Islands        1\n",
       "Lesotho                       1\n",
       "Name: count, Length: 206, dtype: int64"
      ]
     },
     "execution_count": 113,
     "metadata": {},
     "output_type": "execute_result"
    }
   ],
   "source": [
    "filtered_df[\"country\"].value_counts()"
   ]
  },
  {
   "cell_type": "code",
   "execution_count": 96,
   "metadata": {},
   "outputs": [
    {
     "data": {
      "text/plain": [
       "ID                            0\n",
       "first_open_date               0\n",
       "first_open_timestamp          0\n",
       "local_first_open_timestamp    0\n",
       "country                       0\n",
       "                             ..\n",
       "IAPRevenueD12                 0\n",
       "IAPRevenueD13                 0\n",
       "IAPRevenueD14                 0\n",
       "IAPRevenueD15                 0\n",
       "TARGET                        0\n",
       "Length: 87, dtype: int64"
      ]
     },
     "execution_count": 96,
     "metadata": {},
     "output_type": "execute_result"
    }
   ],
   "source": [
    "filtered_df.isna().sum()"
   ]
  },
  {
   "cell_type": "code",
   "execution_count": 97,
   "metadata": {},
   "outputs": [
    {
     "name": "stderr",
     "output_type": "stream",
     "text": [
      "C:\\Users\\sueda\\AppData\\Local\\Temp\\ipykernel_11416\\3632186599.py:2: FutureWarning: A value is trying to be set on a copy of a DataFrame or Series through chained assignment using an inplace method.\n",
      "The behavior will change in pandas 3.0. This inplace method will never work because the intermediate object on which we are setting values always behaves as a copy.\n",
      "\n",
      "For example, when doing 'df[col].method(value, inplace=True)', try using 'df.method({col: value}, inplace=True)' or df[col] = df[col].method(value) instead, to perform the operation inplace on the original object.\n",
      "\n",
      "\n",
      "  filtered_df[f'Level_{level}_Duration'].fillna(0, inplace=True)\n",
      "C:\\Users\\sueda\\AppData\\Local\\Temp\\ipykernel_11416\\3632186599.py:2: SettingWithCopyWarning: \n",
      "A value is trying to be set on a copy of a slice from a DataFrame\n",
      "\n",
      "See the caveats in the documentation: https://pandas.pydata.org/pandas-docs/stable/user_guide/indexing.html#returning-a-view-versus-a-copy\n",
      "  filtered_df[f'Level_{level}_Duration'].fillna(0, inplace=True)\n"
     ]
    }
   ],
   "source": [
    "for level in range(1,11):\n",
    "    filtered_df[f'Level_{level}_Duration'].fillna(0, inplace=True)"
   ]
  },
  {
   "cell_type": "code",
   "execution_count": 98,
   "metadata": {},
   "outputs": [
    {
     "data": {
      "text/plain": [
       "Index(['ID', 'first_open_date', 'first_open_timestamp',\n",
       "       'local_first_open_timestamp', 'country', 'platform', 'device_category',\n",
       "       'device_brand', 'device_model', 'has_ios_att_permission', 'ad_network',\n",
       "       'first_prediction', 'RetentionD0', 'RetentionD1', 'RetentionD2',\n",
       "       'RetentionD3', 'RetentionD4', 'RetentionD5', 'RetentionD6',\n",
       "       'RetentionD7', 'RetentionD8', 'RetentionD9', 'RetentionD10',\n",
       "       'RetentionD11', 'RetentionD12', 'RetentionD13', 'RetentionD14',\n",
       "       'RetentionD15', 'LevelAdvancedCountD0', 'LevelAdvancedCountD1',\n",
       "       'LevelAdvancedCountD2', 'LevelAdvancedCountD3', 'LevelAdvancedCountD4',\n",
       "       'LevelAdvancedCountD5', 'LevelAdvancedCountD6', 'LevelAdvancedCountD7',\n",
       "       'LevelAdvancedCountD8', 'LevelAdvancedCountD9', 'LevelAdvancedCountD10',\n",
       "       'LevelAdvancedCountD11', 'LevelAdvancedCountD12',\n",
       "       'LevelAdvancedCountD13', 'LevelAdvancedCountD14',\n",
       "       'LevelAdvancedCountD15', 'Level_1_Duration', 'Level_2_Duration',\n",
       "       'Level_3_Duration', 'Level_4_Duration', 'Level_5_Duration',\n",
       "       'Level_6_Duration', 'Level_7_Duration', 'Level_8_Duration',\n",
       "       'Level_9_Duration', 'Level_10_Duration', 'AdRevenueD0', 'AdRevenueD1',\n",
       "       'AdRevenueD2', 'AdRevenueD3', 'AdRevenueD4', 'AdRevenueD5',\n",
       "       'AdRevenueD6', 'AdRevenueD7', 'AdRevenueD8', 'AdRevenueD9',\n",
       "       'AdRevenueD10', 'AdRevenueD11', 'AdRevenueD12', 'AdRevenueD13',\n",
       "       'AdRevenueD14', 'AdRevenueD15', 'IAPRevenueD0', 'IAPRevenueD1',\n",
       "       'IAPRevenueD2', 'IAPRevenueD3', 'IAPRevenueD4', 'IAPRevenueD5',\n",
       "       'IAPRevenueD6', 'IAPRevenueD7', 'IAPRevenueD8', 'IAPRevenueD9',\n",
       "       'IAPRevenueD10', 'IAPRevenueD11', 'IAPRevenueD12', 'IAPRevenueD13',\n",
       "       'IAPRevenueD14', 'IAPRevenueD15'],\n",
       "      dtype='object')"
      ]
     },
     "execution_count": 98,
     "metadata": {},
     "output_type": "execute_result"
    }
   ],
   "source": [
    "filtered_test_df.columns"
   ]
  },
  {
   "cell_type": "code",
   "execution_count": 99,
   "metadata": {},
   "outputs": [
    {
     "data": {
      "text/plain": [
       "ID                             0\n",
       "first_open_date                0\n",
       "first_open_timestamp           0\n",
       "local_first_open_timestamp     0\n",
       "country                       37\n",
       "                              ..\n",
       "IAPRevenueD11                  0\n",
       "IAPRevenueD12                  0\n",
       "IAPRevenueD13                  0\n",
       "IAPRevenueD14                  0\n",
       "IAPRevenueD15                  0\n",
       "Length: 86, dtype: int64"
      ]
     },
     "execution_count": 99,
     "metadata": {},
     "output_type": "execute_result"
    }
   ],
   "source": [
    "filtered_test_df.isna().sum()"
   ]
  },
  {
   "cell_type": "code",
   "execution_count": 100,
   "metadata": {},
   "outputs": [
    {
     "data": {
      "text/plain": [
       "ID                                 0\n",
       "first_open_date                    0\n",
       "first_open_timestamp               0\n",
       "local_first_open_timestamp         0\n",
       "country                           56\n",
       "platform                           0\n",
       "device_category                    0\n",
       "device_brand                    3927\n",
       "device_model                       0\n",
       "has_ios_att_permission             0\n",
       "ad_network                    206591\n",
       "dtype: int64"
      ]
     },
     "execution_count": 100,
     "metadata": {},
     "output_type": "execute_result"
    }
   ],
   "source": [
    "users_test.isna().sum()"
   ]
  },
  {
   "cell_type": "code",
   "execution_count": 114,
   "metadata": {},
   "outputs": [
    {
     "name": "stderr",
     "output_type": "stream",
     "text": [
      "C:\\Users\\sueda\\AppData\\Local\\Temp\\ipykernel_11416\\352407144.py:1: SettingWithCopyWarning: \n",
      "A value is trying to be set on a copy of a slice from a DataFrame\n",
      "\n",
      "See the caveats in the documentation: https://pandas.pydata.org/pandas-docs/stable/user_guide/indexing.html#returning-a-view-versus-a-copy\n",
      "  filtered_test_df[\"country\"].fillna(\"United States\", inplace=True)\n"
     ]
    }
   ],
   "source": [
    "filtered_test_df[\"country\"].fillna(\"United States\", inplace=True)"
   ]
  },
  {
   "cell_type": "code",
   "execution_count": 115,
   "metadata": {},
   "outputs": [
    {
     "data": {
      "text/plain": [
       "country\n",
       "Brazil                      27997\n",
       "Mexico                      27337\n",
       "United States               24096\n",
       "Argentina                   15565\n",
       "India                       10626\n",
       "                            ...  \n",
       "Central African Republic        1\n",
       "Macao                           1\n",
       "South Sudan                     1\n",
       "Eswatini                        1\n",
       "Cook Islands                    1\n",
       "Name: count, Length: 205, dtype: int64"
      ]
     },
     "execution_count": 115,
     "metadata": {},
     "output_type": "execute_result"
    }
   ],
   "source": [
    "filtered_test_df[\"country\"].value_counts()"
   ]
  },
  {
   "cell_type": "code",
   "execution_count": 116,
   "metadata": {},
   "outputs": [
    {
     "name": "stderr",
     "output_type": "stream",
     "text": [
      "C:\\Users\\sueda\\AppData\\Local\\Temp\\ipykernel_11416\\1012357556.py:1: SettingWithCopyWarning: \n",
      "A value is trying to be set on a copy of a slice from a DataFrame\n",
      "\n",
      "See the caveats in the documentation: https://pandas.pydata.org/pandas-docs/stable/user_guide/indexing.html#returning-a-view-versus-a-copy\n",
      "  filtered_test_df[\"device_brand\"].fillna(\"Apple\", inplace=True)\n"
     ]
    }
   ],
   "source": [
    "filtered_test_df[\"device_brand\"].fillna(\"Apple\", inplace=True)"
   ]
  },
  {
   "cell_type": "code",
   "execution_count": 117,
   "metadata": {},
   "outputs": [
    {
     "name": "stderr",
     "output_type": "stream",
     "text": [
      "C:\\Users\\sueda\\AppData\\Local\\Temp\\ipykernel_11416\\3502400106.py:1: FutureWarning: A value is trying to be set on a copy of a DataFrame or Series through chained assignment using an inplace method.\n",
      "The behavior will change in pandas 3.0. This inplace method will never work because the intermediate object on which we are setting values always behaves as a copy.\n",
      "\n",
      "For example, when doing 'df[col].method(value, inplace=True)', try using 'df.method({col: value}, inplace=True)' or df[col] = df[col].method(value) instead, to perform the operation inplace on the original object.\n",
      "\n",
      "\n",
      "  filtered_test_df[\"ad_network\"].fillna(\"organic_user\", inplace=True)\n",
      "C:\\Users\\sueda\\AppData\\Local\\Temp\\ipykernel_11416\\3502400106.py:1: SettingWithCopyWarning: \n",
      "A value is trying to be set on a copy of a slice from a DataFrame\n",
      "\n",
      "See the caveats in the documentation: https://pandas.pydata.org/pandas-docs/stable/user_guide/indexing.html#returning-a-view-versus-a-copy\n",
      "  filtered_test_df[\"ad_network\"].fillna(\"organic_user\", inplace=True)\n"
     ]
    }
   ],
   "source": [
    "filtered_test_df[\"ad_network\"].fillna(\"organic_user\", inplace=True)"
   ]
  },
  {
   "cell_type": "code",
   "execution_count": 118,
   "metadata": {},
   "outputs": [
    {
     "data": {
      "text/plain": [
       "37.54019300786987"
      ]
     },
     "execution_count": 118,
     "metadata": {},
     "output_type": "execute_result"
    }
   ],
   "source": [
    "test_df[\"first_prediction\"].mean()"
   ]
  },
  {
   "cell_type": "code",
   "execution_count": 119,
   "metadata": {},
   "outputs": [
    {
     "name": "stderr",
     "output_type": "stream",
     "text": [
      "C:\\Users\\sueda\\AppData\\Local\\Temp\\ipykernel_11416\\1185975934.py:1: FutureWarning: A value is trying to be set on a copy of a DataFrame or Series through chained assignment using an inplace method.\n",
      "The behavior will change in pandas 3.0. This inplace method will never work because the intermediate object on which we are setting values always behaves as a copy.\n",
      "\n",
      "For example, when doing 'df[col].method(value, inplace=True)', try using 'df.method({col: value}, inplace=True)' or df[col] = df[col].method(value) instead, to perform the operation inplace on the original object.\n",
      "\n",
      "\n",
      "  filtered_test_df[\"first_prediction\"].fillna(37.54019300786987, inplace=True)\n",
      "C:\\Users\\sueda\\AppData\\Local\\Temp\\ipykernel_11416\\1185975934.py:1: SettingWithCopyWarning: \n",
      "A value is trying to be set on a copy of a slice from a DataFrame\n",
      "\n",
      "See the caveats in the documentation: https://pandas.pydata.org/pandas-docs/stable/user_guide/indexing.html#returning-a-view-versus-a-copy\n",
      "  filtered_test_df[\"first_prediction\"].fillna(37.54019300786987, inplace=True)\n"
     ]
    }
   ],
   "source": [
    "filtered_test_df[\"first_prediction\"].fillna(37.54019300786987, inplace=True)"
   ]
  },
  {
   "cell_type": "code",
   "execution_count": 120,
   "metadata": {},
   "outputs": [
    {
     "name": "stderr",
     "output_type": "stream",
     "text": [
      "C:\\Users\\sueda\\AppData\\Local\\Temp\\ipykernel_11416\\3502400106.py:1: SettingWithCopyWarning: \n",
      "A value is trying to be set on a copy of a slice from a DataFrame\n",
      "\n",
      "See the caveats in the documentation: https://pandas.pydata.org/pandas-docs/stable/user_guide/indexing.html#returning-a-view-versus-a-copy\n",
      "  filtered_test_df[\"ad_network\"].fillna(\"organic_user\", inplace=True)\n"
     ]
    }
   ],
   "source": [
    "filtered_test_df[\"ad_network\"].fillna(\"organic_user\", inplace=True)"
   ]
  },
  {
   "cell_type": "code",
   "execution_count": 121,
   "metadata": {},
   "outputs": [
    {
     "name": "stderr",
     "output_type": "stream",
     "text": [
      "C:\\Users\\sueda\\AppData\\Local\\Temp\\ipykernel_11416\\4256963988.py:2: FutureWarning: A value is trying to be set on a copy of a DataFrame or Series through chained assignment using an inplace method.\n",
      "The behavior will change in pandas 3.0. This inplace method will never work because the intermediate object on which we are setting values always behaves as a copy.\n",
      "\n",
      "For example, when doing 'df[col].method(value, inplace=True)', try using 'df.method({col: value}, inplace=True)' or df[col] = df[col].method(value) instead, to perform the operation inplace on the original object.\n",
      "\n",
      "\n",
      "  filtered_test_df[f'Level_{level}_Duration'].fillna(0, inplace=True)\n",
      "C:\\Users\\sueda\\AppData\\Local\\Temp\\ipykernel_11416\\4256963988.py:2: SettingWithCopyWarning: \n",
      "A value is trying to be set on a copy of a slice from a DataFrame\n",
      "\n",
      "See the caveats in the documentation: https://pandas.pydata.org/pandas-docs/stable/user_guide/indexing.html#returning-a-view-versus-a-copy\n",
      "  filtered_test_df[f'Level_{level}_Duration'].fillna(0, inplace=True)\n"
     ]
    }
   ],
   "source": [
    "for level in range(1,11):\n",
    "    filtered_test_df[f'Level_{level}_Duration'].fillna(0, inplace=True)"
   ]
  },
  {
   "cell_type": "code",
   "execution_count": 122,
   "metadata": {},
   "outputs": [
    {
     "data": {
      "text/plain": [
       "ID                            0\n",
       "first_open_date               0\n",
       "first_open_timestamp          0\n",
       "local_first_open_timestamp    0\n",
       "country                       0\n",
       "                             ..\n",
       "IAPRevenueD11                 0\n",
       "IAPRevenueD12                 0\n",
       "IAPRevenueD13                 0\n",
       "IAPRevenueD14                 0\n",
       "IAPRevenueD15                 0\n",
       "Length: 86, dtype: int64"
      ]
     },
     "execution_count": 122,
     "metadata": {},
     "output_type": "execute_result"
    }
   ],
   "source": [
    "filtered_test_df.isna().sum()"
   ]
  },
  {
   "cell_type": "code",
   "execution_count": null,
   "metadata": {},
   "outputs": [],
   "source": []
  }
 ],
 "metadata": {
  "kernelspec": {
   "display_name": "base",
   "language": "python",
   "name": "python3"
  },
  "language_info": {
   "codemirror_mode": {
    "name": "ipython",
    "version": 3
   },
   "file_extension": ".py",
   "mimetype": "text/x-python",
   "name": "python",
   "nbconvert_exporter": "python",
   "pygments_lexer": "ipython3",
   "version": "3.12.4"
  }
 },
 "nbformat": 4,
 "nbformat_minor": 2
}
