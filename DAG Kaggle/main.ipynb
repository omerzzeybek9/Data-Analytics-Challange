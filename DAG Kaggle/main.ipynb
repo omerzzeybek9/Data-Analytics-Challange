{
 "cells": [
  {
   "cell_type": "code",
   "execution_count": 1,
   "metadata": {},
   "outputs": [],
   "source": [
    "import pandas as pd\n",
    "import numpy as np"
   ]
  },
  {
   "cell_type": "code",
   "execution_count": 2,
   "metadata": {},
   "outputs": [],
   "source": [
    "#User features \n",
    "user_features = pd.read_csv(\"csvfiles/user_features_train.csv\")\n"
   ]
  },
  {
   "cell_type": "code",
   "execution_count": 3,
   "metadata": {},
   "outputs": [],
   "source": [
    "#Users meta data \n",
    "users = pd.read_csv(\"csvfiles/users_train.csv\")"
   ]
  },
  {
   "cell_type": "code",
   "execution_count": 4,
   "metadata": {},
   "outputs": [],
   "source": [
    "#Target_Train \n",
    "target = pd.read_csv(\"csvfiles/targets_train.csv\")"
   ]
  },
  {
   "cell_type": "code",
   "execution_count": 5,
   "metadata": {},
   "outputs": [
    {
     "data": {
      "text/html": [
       "<div>\n",
       "<style scoped>\n",
       "    .dataframe tbody tr th:only-of-type {\n",
       "        vertical-align: middle;\n",
       "    }\n",
       "\n",
       "    .dataframe tbody tr th {\n",
       "        vertical-align: top;\n",
       "    }\n",
       "\n",
       "    .dataframe thead th {\n",
       "        text-align: right;\n",
       "    }\n",
       "</style>\n",
       "<table border=\"1\" class=\"dataframe\">\n",
       "  <thead>\n",
       "    <tr style=\"text-align: right;\">\n",
       "      <th></th>\n",
       "      <th>ID</th>\n",
       "      <th>first_prediction</th>\n",
       "      <th>RetentionD0</th>\n",
       "      <th>RetentionD1</th>\n",
       "      <th>RetentionD2</th>\n",
       "      <th>RetentionD3</th>\n",
       "      <th>RetentionD4</th>\n",
       "      <th>RetentionD5</th>\n",
       "      <th>RetentionD6</th>\n",
       "      <th>RetentionD7</th>\n",
       "      <th>...</th>\n",
       "      <th>IAPRevenueD6</th>\n",
       "      <th>IAPRevenueD7</th>\n",
       "      <th>IAPRevenueD8</th>\n",
       "      <th>IAPRevenueD9</th>\n",
       "      <th>IAPRevenueD10</th>\n",
       "      <th>IAPRevenueD11</th>\n",
       "      <th>IAPRevenueD12</th>\n",
       "      <th>IAPRevenueD13</th>\n",
       "      <th>IAPRevenueD14</th>\n",
       "      <th>IAPRevenueD15</th>\n",
       "    </tr>\n",
       "  </thead>\n",
       "  <tbody>\n",
       "    <tr>\n",
       "      <th>0</th>\n",
       "      <td>0</td>\n",
       "      <td>3.314099</td>\n",
       "      <td>True</td>\n",
       "      <td>False</td>\n",
       "      <td>False</td>\n",
       "      <td>False</td>\n",
       "      <td>False</td>\n",
       "      <td>False</td>\n",
       "      <td>False</td>\n",
       "      <td>False</td>\n",
       "      <td>...</td>\n",
       "      <td>0.0</td>\n",
       "      <td>0.0</td>\n",
       "      <td>0.0</td>\n",
       "      <td>0.0</td>\n",
       "      <td>0.0</td>\n",
       "      <td>0.0</td>\n",
       "      <td>0.0</td>\n",
       "      <td>0.0</td>\n",
       "      <td>0.0</td>\n",
       "      <td>0.0</td>\n",
       "    </tr>\n",
       "    <tr>\n",
       "      <th>1</th>\n",
       "      <td>1</td>\n",
       "      <td>1.681524</td>\n",
       "      <td>True</td>\n",
       "      <td>False</td>\n",
       "      <td>False</td>\n",
       "      <td>False</td>\n",
       "      <td>False</td>\n",
       "      <td>False</td>\n",
       "      <td>True</td>\n",
       "      <td>True</td>\n",
       "      <td>...</td>\n",
       "      <td>0.0</td>\n",
       "      <td>0.0</td>\n",
       "      <td>0.0</td>\n",
       "      <td>0.0</td>\n",
       "      <td>0.0</td>\n",
       "      <td>0.0</td>\n",
       "      <td>0.0</td>\n",
       "      <td>0.0</td>\n",
       "      <td>0.0</td>\n",
       "      <td>0.0</td>\n",
       "    </tr>\n",
       "    <tr>\n",
       "      <th>2</th>\n",
       "      <td>2</td>\n",
       "      <td>10.718750</td>\n",
       "      <td>True</td>\n",
       "      <td>False</td>\n",
       "      <td>False</td>\n",
       "      <td>False</td>\n",
       "      <td>False</td>\n",
       "      <td>False</td>\n",
       "      <td>False</td>\n",
       "      <td>False</td>\n",
       "      <td>...</td>\n",
       "      <td>0.0</td>\n",
       "      <td>0.0</td>\n",
       "      <td>0.0</td>\n",
       "      <td>0.0</td>\n",
       "      <td>0.0</td>\n",
       "      <td>0.0</td>\n",
       "      <td>0.0</td>\n",
       "      <td>0.0</td>\n",
       "      <td>0.0</td>\n",
       "      <td>0.0</td>\n",
       "    </tr>\n",
       "    <tr>\n",
       "      <th>3</th>\n",
       "      <td>3</td>\n",
       "      <td>5.100000</td>\n",
       "      <td>True</td>\n",
       "      <td>True</td>\n",
       "      <td>True</td>\n",
       "      <td>False</td>\n",
       "      <td>False</td>\n",
       "      <td>False</td>\n",
       "      <td>False</td>\n",
       "      <td>False</td>\n",
       "      <td>...</td>\n",
       "      <td>0.0</td>\n",
       "      <td>0.0</td>\n",
       "      <td>0.0</td>\n",
       "      <td>0.0</td>\n",
       "      <td>0.0</td>\n",
       "      <td>0.0</td>\n",
       "      <td>0.0</td>\n",
       "      <td>0.0</td>\n",
       "      <td>0.0</td>\n",
       "      <td>0.0</td>\n",
       "    </tr>\n",
       "    <tr>\n",
       "      <th>4</th>\n",
       "      <td>4</td>\n",
       "      <td>2.091409</td>\n",
       "      <td>True</td>\n",
       "      <td>False</td>\n",
       "      <td>False</td>\n",
       "      <td>False</td>\n",
       "      <td>False</td>\n",
       "      <td>False</td>\n",
       "      <td>False</td>\n",
       "      <td>False</td>\n",
       "      <td>...</td>\n",
       "      <td>0.0</td>\n",
       "      <td>0.0</td>\n",
       "      <td>0.0</td>\n",
       "      <td>0.0</td>\n",
       "      <td>0.0</td>\n",
       "      <td>0.0</td>\n",
       "      <td>0.0</td>\n",
       "      <td>0.0</td>\n",
       "      <td>0.0</td>\n",
       "      <td>0.0</td>\n",
       "    </tr>\n",
       "  </tbody>\n",
       "</table>\n",
       "<p>5 rows × 76 columns</p>\n",
       "</div>"
      ],
      "text/plain": [
       "   ID  first_prediction  RetentionD0  RetentionD1  RetentionD2  RetentionD3  \\\n",
       "0   0          3.314099         True        False        False        False   \n",
       "1   1          1.681524         True        False        False        False   \n",
       "2   2         10.718750         True        False        False        False   \n",
       "3   3          5.100000         True         True         True        False   \n",
       "4   4          2.091409         True        False        False        False   \n",
       "\n",
       "   RetentionD4  RetentionD5  RetentionD6  RetentionD7  ...  IAPRevenueD6  \\\n",
       "0        False        False        False        False  ...           0.0   \n",
       "1        False        False         True         True  ...           0.0   \n",
       "2        False        False        False        False  ...           0.0   \n",
       "3        False        False        False        False  ...           0.0   \n",
       "4        False        False        False        False  ...           0.0   \n",
       "\n",
       "   IAPRevenueD7  IAPRevenueD8  IAPRevenueD9  IAPRevenueD10  IAPRevenueD11  \\\n",
       "0           0.0           0.0           0.0            0.0            0.0   \n",
       "1           0.0           0.0           0.0            0.0            0.0   \n",
       "2           0.0           0.0           0.0            0.0            0.0   \n",
       "3           0.0           0.0           0.0            0.0            0.0   \n",
       "4           0.0           0.0           0.0            0.0            0.0   \n",
       "\n",
       "   IAPRevenueD12  IAPRevenueD13  IAPRevenueD14  IAPRevenueD15  \n",
       "0            0.0            0.0            0.0            0.0  \n",
       "1            0.0            0.0            0.0            0.0  \n",
       "2            0.0            0.0            0.0            0.0  \n",
       "3            0.0            0.0            0.0            0.0  \n",
       "4            0.0            0.0            0.0            0.0  \n",
       "\n",
       "[5 rows x 76 columns]"
      ]
     },
     "execution_count": 5,
     "metadata": {},
     "output_type": "execute_result"
    }
   ],
   "source": [
    "user_features.head()"
   ]
  },
  {
   "cell_type": "code",
   "execution_count": 6,
   "metadata": {},
   "outputs": [
    {
     "data": {
      "text/html": [
       "<div>\n",
       "<style scoped>\n",
       "    .dataframe tbody tr th:only-of-type {\n",
       "        vertical-align: middle;\n",
       "    }\n",
       "\n",
       "    .dataframe tbody tr th {\n",
       "        vertical-align: top;\n",
       "    }\n",
       "\n",
       "    .dataframe thead th {\n",
       "        text-align: right;\n",
       "    }\n",
       "</style>\n",
       "<table border=\"1\" class=\"dataframe\">\n",
       "  <thead>\n",
       "    <tr style=\"text-align: right;\">\n",
       "      <th></th>\n",
       "      <th>ID</th>\n",
       "      <th>first_open_date</th>\n",
       "      <th>first_open_timestamp</th>\n",
       "      <th>local_first_open_timestamp</th>\n",
       "      <th>country</th>\n",
       "      <th>platform</th>\n",
       "      <th>device_category</th>\n",
       "      <th>device_brand</th>\n",
       "      <th>device_model</th>\n",
       "      <th>has_ios_att_permission</th>\n",
       "      <th>ad_network</th>\n",
       "    </tr>\n",
       "  </thead>\n",
       "  <tbody>\n",
       "    <tr>\n",
       "      <th>0</th>\n",
       "      <td>0</td>\n",
       "      <td>2024-03-02</td>\n",
       "      <td>1709355895042000</td>\n",
       "      <td>1709334295042000</td>\n",
       "      <td>Mexico</td>\n",
       "      <td>Android</td>\n",
       "      <td>mobile</td>\n",
       "      <td>Xiaomi</td>\n",
       "      <td>Redmi A2</td>\n",
       "      <td>False</td>\n",
       "      <td>unityads_int</td>\n",
       "    </tr>\n",
       "    <tr>\n",
       "      <th>1</th>\n",
       "      <td>1</td>\n",
       "      <td>2024-03-19</td>\n",
       "      <td>1710824539731000</td>\n",
       "      <td>1710806539731000</td>\n",
       "      <td>Peru</td>\n",
       "      <td>Android</td>\n",
       "      <td>mobile</td>\n",
       "      <td>Samsung</td>\n",
       "      <td>Galaxy A13</td>\n",
       "      <td>False</td>\n",
       "      <td>applovin_int</td>\n",
       "    </tr>\n",
       "    <tr>\n",
       "      <th>2</th>\n",
       "      <td>2</td>\n",
       "      <td>2024-03-18</td>\n",
       "      <td>1710731043082000</td>\n",
       "      <td>1710720243082000</td>\n",
       "      <td>Brazil</td>\n",
       "      <td>Android</td>\n",
       "      <td>mobile</td>\n",
       "      <td>Xiaomi</td>\n",
       "      <td>Redmi 12</td>\n",
       "      <td>False</td>\n",
       "      <td>applovin_int</td>\n",
       "    </tr>\n",
       "    <tr>\n",
       "      <th>3</th>\n",
       "      <td>3</td>\n",
       "      <td>2024-03-03</td>\n",
       "      <td>1709455862260000</td>\n",
       "      <td>1709441462260000</td>\n",
       "      <td>Dominican Republic</td>\n",
       "      <td>iOS</td>\n",
       "      <td>mobile</td>\n",
       "      <td>Apple</td>\n",
       "      <td>iPhone 11 Pro Max</td>\n",
       "      <td>False</td>\n",
       "      <td>NaN</td>\n",
       "    </tr>\n",
       "    <tr>\n",
       "      <th>4</th>\n",
       "      <td>4</td>\n",
       "      <td>2024-04-30</td>\n",
       "      <td>1714482477190000</td>\n",
       "      <td>1714464477190000</td>\n",
       "      <td>Ecuador</td>\n",
       "      <td>Android</td>\n",
       "      <td>mobile</td>\n",
       "      <td>Motorola</td>\n",
       "      <td>Moto E22</td>\n",
       "      <td>False</td>\n",
       "      <td>applovin_int</td>\n",
       "    </tr>\n",
       "  </tbody>\n",
       "</table>\n",
       "</div>"
      ],
      "text/plain": [
       "   ID first_open_date  first_open_timestamp  local_first_open_timestamp  \\\n",
       "0   0      2024-03-02      1709355895042000            1709334295042000   \n",
       "1   1      2024-03-19      1710824539731000            1710806539731000   \n",
       "2   2      2024-03-18      1710731043082000            1710720243082000   \n",
       "3   3      2024-03-03      1709455862260000            1709441462260000   \n",
       "4   4      2024-04-30      1714482477190000            1714464477190000   \n",
       "\n",
       "              country platform device_category device_brand  \\\n",
       "0              Mexico  Android          mobile       Xiaomi   \n",
       "1                Peru  Android          mobile      Samsung   \n",
       "2              Brazil  Android          mobile       Xiaomi   \n",
       "3  Dominican Republic      iOS          mobile        Apple   \n",
       "4             Ecuador  Android          mobile     Motorola   \n",
       "\n",
       "        device_model  has_ios_att_permission    ad_network  \n",
       "0           Redmi A2                   False  unityads_int  \n",
       "1         Galaxy A13                   False  applovin_int  \n",
       "2           Redmi 12                   False  applovin_int  \n",
       "3  iPhone 11 Pro Max                   False           NaN  \n",
       "4           Moto E22                   False  applovin_int  "
      ]
     },
     "execution_count": 6,
     "metadata": {},
     "output_type": "execute_result"
    }
   ],
   "source": [
    "users.head()"
   ]
  },
  {
   "cell_type": "code",
   "execution_count": 7,
   "metadata": {},
   "outputs": [
    {
     "data": {
      "text/html": [
       "<div>\n",
       "<style scoped>\n",
       "    .dataframe tbody tr th:only-of-type {\n",
       "        vertical-align: middle;\n",
       "    }\n",
       "\n",
       "    .dataframe tbody tr th {\n",
       "        vertical-align: top;\n",
       "    }\n",
       "\n",
       "    .dataframe thead th {\n",
       "        text-align: right;\n",
       "    }\n",
       "</style>\n",
       "<table border=\"1\" class=\"dataframe\">\n",
       "  <thead>\n",
       "    <tr style=\"text-align: right;\">\n",
       "      <th></th>\n",
       "      <th>ID</th>\n",
       "      <th>TARGET</th>\n",
       "    </tr>\n",
       "  </thead>\n",
       "  <tbody>\n",
       "    <tr>\n",
       "      <th>0</th>\n",
       "      <td>0</td>\n",
       "      <td>0.000000</td>\n",
       "    </tr>\n",
       "    <tr>\n",
       "      <th>1</th>\n",
       "      <td>1</td>\n",
       "      <td>0.018892</td>\n",
       "    </tr>\n",
       "    <tr>\n",
       "      <th>2</th>\n",
       "      <td>2</td>\n",
       "      <td>0.000000</td>\n",
       "    </tr>\n",
       "    <tr>\n",
       "      <th>3</th>\n",
       "      <td>3</td>\n",
       "      <td>0.046650</td>\n",
       "    </tr>\n",
       "    <tr>\n",
       "      <th>4</th>\n",
       "      <td>4</td>\n",
       "      <td>0.014680</td>\n",
       "    </tr>\n",
       "  </tbody>\n",
       "</table>\n",
       "</div>"
      ],
      "text/plain": [
       "   ID    TARGET\n",
       "0   0  0.000000\n",
       "1   1  0.018892\n",
       "2   2  0.000000\n",
       "3   3  0.046650\n",
       "4   4  0.014680"
      ]
     },
     "execution_count": 7,
     "metadata": {},
     "output_type": "execute_result"
    }
   ],
   "source": [
    "target.head()"
   ]
  },
  {
   "cell_type": "code",
   "execution_count": 8,
   "metadata": {},
   "outputs": [
    {
     "data": {
      "text/plain": [
       "ID                      0\n",
       "first_prediction    25735\n",
       "RetentionD0             0\n",
       "RetentionD1             0\n",
       "RetentionD2             0\n",
       "                    ...  \n",
       "IAPRevenueD11           0\n",
       "IAPRevenueD12           0\n",
       "IAPRevenueD13           0\n",
       "IAPRevenueD14           0\n",
       "IAPRevenueD15           0\n",
       "Length: 76, dtype: int64"
      ]
     },
     "execution_count": 8,
     "metadata": {},
     "output_type": "execute_result"
    }
   ],
   "source": [
    "user_features.isna().sum()"
   ]
  },
  {
   "cell_type": "code",
   "execution_count": 9,
   "metadata": {},
   "outputs": [
    {
     "data": {
      "text/plain": [
       "ID        0\n",
       "TARGET    0\n",
       "dtype: int64"
      ]
     },
     "execution_count": 9,
     "metadata": {},
     "output_type": "execute_result"
    }
   ],
   "source": [
    "target.isna().sum()"
   ]
  },
  {
   "cell_type": "code",
   "execution_count": 10,
   "metadata": {},
   "outputs": [
    {
     "data": {
      "text/plain": [
       "ID                                 0\n",
       "first_open_date                    0\n",
       "first_open_timestamp               0\n",
       "local_first_open_timestamp         0\n",
       "country                           82\n",
       "platform                           0\n",
       "device_category                    0\n",
       "device_brand                    5840\n",
       "device_model                       0\n",
       "has_ios_att_permission             0\n",
       "ad_network                    310470\n",
       "dtype: int64"
      ]
     },
     "execution_count": 10,
     "metadata": {},
     "output_type": "execute_result"
    }
   ],
   "source": [
    "users.isna().sum()"
   ]
  },
  {
   "cell_type": "code",
   "execution_count": 11,
   "metadata": {},
   "outputs": [
    {
     "data": {
      "text/plain": [
       "has_ios_att_permission\n",
       "False    764921\n",
       "True     113673\n",
       "Name: count, dtype: int64"
      ]
     },
     "execution_count": 11,
     "metadata": {},
     "output_type": "execute_result"
    }
   ],
   "source": [
    "users[\"has_ios_att_permission\"].value_counts()"
   ]
  },
  {
   "cell_type": "code",
   "execution_count": 12,
   "metadata": {},
   "outputs": [
    {
     "data": {
      "text/plain": [
       "device_brand\n",
       "Apple          363623\n",
       "Samsung        225831\n",
       "Xiaomi          82158\n",
       "Motorola        76009\n",
       "OPPO            22920\n",
       "                ...  \n",
       "Aiprotablet         1\n",
       "Fossibot            1\n",
       "Meitu               1\n",
       "Tagital             1\n",
       "Movisun             1\n",
       "Name: count, Length: 295, dtype: int64"
      ]
     },
     "execution_count": 12,
     "metadata": {},
     "output_type": "execute_result"
    }
   ],
   "source": [
    "users[\"device_brand\"].value_counts()"
   ]
  },
  {
   "cell_type": "code",
   "execution_count": 13,
   "metadata": {},
   "outputs": [
    {
     "data": {
      "text/plain": [
       "0              0\n",
       "1              1\n",
       "2              2\n",
       "3              3\n",
       "4              4\n",
       "           ...  \n",
       "878589    878589\n",
       "878590    878590\n",
       "878591    878591\n",
       "878592    878592\n",
       "878593    878593\n",
       "Name: ID, Length: 878594, dtype: int64"
      ]
     },
     "execution_count": 13,
     "metadata": {},
     "output_type": "execute_result"
    }
   ],
   "source": [
    "users[\"ID\"]"
   ]
  },
  {
   "cell_type": "code",
   "execution_count": 14,
   "metadata": {},
   "outputs": [],
   "source": [
    "merged_df = pd.merge(users, user_features, on = \"ID\")\n",
    "df = pd.merge(merged_df, target, on=\"ID\")"
   ]
  },
  {
   "cell_type": "code",
   "execution_count": 15,
   "metadata": {},
   "outputs": [],
   "source": [
    "#Leaving outside the players that uninstalled the game\n",
    "\n",
    "retention_columns = [f\"RetentionD{i}\" for i in range(1, 16)]\n",
    "\n",
    "#A function to calculate last active day of player\n",
    "\n",
    "def last_active_day(row):\n",
    "    for day in range(15,0,-1):\n",
    "        if row[f\"RetentionD{day}\"] == True:\n",
    "            return day\n",
    "    return 0 \n"
   ]
  },
  {
   "cell_type": "code",
   "execution_count": 16,
   "metadata": {},
   "outputs": [],
   "source": [
    "df[\"Last Active Day\"] = df.apply(last_active_day, axis=1)"
   ]
  },
  {
   "cell_type": "code",
   "execution_count": 17,
   "metadata": {},
   "outputs": [
    {
     "data": {
      "text/plain": [
       "0    12\n",
       "1     9\n",
       "2     0\n",
       "3     2\n",
       "4     0\n",
       "5     2\n",
       "6     2\n",
       "7     0\n",
       "8     6\n",
       "9     1\n",
       "Name: Last Active Day, dtype: int64"
      ]
     },
     "execution_count": 17,
     "metadata": {},
     "output_type": "execute_result"
    }
   ],
   "source": [
    "df[\"Last Active Day\"].head(10)"
   ]
  },
  {
   "cell_type": "code",
   "execution_count": 18,
   "metadata": {},
   "outputs": [],
   "source": [
    "def count_retention_values(row):\n",
    "    true_count = sum(row[col] == True for col in retention_columns)\n",
    "    false_count = sum(row[col] == False for col in retention_columns)\n",
    "    return pd.Series([true_count, false_count], index=['True_count', 'False_count'])"
   ]
  },
  {
   "cell_type": "code",
   "execution_count": 19,
   "metadata": {},
   "outputs": [],
   "source": [
    "#8. günden sonra oynaması lazım 5 günden az oynamaması lazım\n",
    "\n",
    "df[['True_count', 'False_count']] = df.apply(count_retention_values, axis=1)"
   ]
  }
 ],
 "metadata": {
  "kernelspec": {
   "display_name": "base",
   "language": "python",
   "name": "python3"
  },
  "language_info": {
   "codemirror_mode": {
    "name": "ipython",
    "version": 3
   },
   "file_extension": ".py",
   "mimetype": "text/x-python",
   "name": "python",
   "nbconvert_exporter": "python",
   "pygments_lexer": "ipython3",
   "version": "3.12.4"
  }
 },
 "nbformat": 4,
 "nbformat_minor": 2
}
